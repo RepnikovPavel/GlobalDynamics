{
 "cells": [
  {
   "cell_type": "code",
   "execution_count": null,
   "metadata": {},
   "outputs": [],
   "source": [
    "import matplotlib.pyplot as plt\n",
    "import numpy as np"
   ]
  },
  {
   "cell_type": "markdown",
   "metadata": {},
   "source": [
    "$$\n",
    "\\frac{d}{dt}N  = \\frac{1}{C_0}N^2\n",
    "$$"
   ]
  },
  {
   "cell_type": "code",
   "execution_count": null,
   "metadata": {},
   "outputs": [],
   "source": [
    "fig,ax = plt.subplots()\n",
    "fig.set_size_inches(16,9)\n",
    "C0 = 186*10**9\n",
    "T0 = 2007.0\n",
    "k = 1.0\n",
    "t_vec = np.linspace(-1000, 2000,1000) \n",
    "y_vec = C0/(T0-t_vec)/10.0**9\n",
    "ax.plot(t_vec,y_vec)\n",
    "ax.set_ylabel('N,млрд')\n",
    "print('')"
   ]
  },
  {
   "cell_type": "markdown",
   "metadata": {},
   "source": [
    "$$\n",
    "u_t = \\alpha u^2 + (D_x u_x)_x + (D_y u_y)_y\n",
    "$$\n",
    "$$\n",
    "\\alpha > 0\n",
    "$$\n",
    "$$\n",
    "D_x(u) > 0\n",
    "$$\n",
    "$$\n",
    "D_y(u) > 0\n",
    "$$\n",
    "\n",
    "$$\n",
    "D_x(u) = Cu^{\\sigma},\\sigma>0 \n",
    "$$\n",
    "\n",
    "$$\n",
    "D_y(u) = Cu^{\\sigma},\\sigma>0\n",
    "$$\n",
    "\n",
    "\n",
    "$$\n",
    "u_t = F(u) + (D_x u_x)_x + (D_y u_y)_y\n",
    "$$\n",
    "1. \n",
    "$$\n",
    "F(u)>0,D_x(u) > 0, D_y(u) > 0\n",
    "$$\n",
    "\n",
    "2. \n",
    "$$\n",
    "F(u) \\in \\mathbb{R},D_x(u) > 0, D_y(u) > 0\n",
    "$$\n"
   ]
  },
  {
   "cell_type": "markdown",
   "metadata": {},
   "source": [
    "https://www.mathnet.ru/links/004f2a382388798323d98247ed81fe3a/zvmmf4669.pdf"
   ]
  },
  {
   "cell_type": "markdown",
   "metadata": {},
   "source": [
    "В отсутствие диффузионных слагаемых получим гиперболический рост  \n",
    "$$\n",
    "u_t = \\alpha u^2 , \\alpha > 0\n",
    "$$\n",
    "\n",
    "$$\n",
    "u(t) = \\frac{1}{\\frac{1}{u(t_0)}-\\alpha (t-t_0)}\n",
    "$$\n",
    "\n",
    "$$\n",
    "T_0 = \\frac{1}{\\alpha} \\frac{1}{u(t_0)}+t_0\n",
    "$$\n",
    "$$\n",
    "u(t) = \\frac{1}{\\alpha} \\frac{1}{T_0-t}\n",
    "$$\n",
    "\n",
    "Опорные параметры\n",
    "$$\n",
    "T_0 =2007\n",
    "$$\n",
    "$$\n",
    "\\frac{1}{\\alpha} = 186 \\cdot 10^9\n",
    "$$\n",
    "\n"
   ]
  },
  {
   "cell_type": "code",
   "execution_count": null,
   "metadata": {},
   "outputs": [],
   "source": []
  }
 ],
 "metadata": {
  "kernelspec": {
   "display_name": "ml",
   "language": "python",
   "name": "python3"
  },
  "language_info": {
   "codemirror_mode": {
    "name": "ipython",
    "version": 3
   },
   "file_extension": ".py",
   "mimetype": "text/x-python",
   "name": "python",
   "nbconvert_exporter": "python",
   "pygments_lexer": "ipython3",
   "version": "3.11.5"
  }
 },
 "nbformat": 4,
 "nbformat_minor": 2
}
