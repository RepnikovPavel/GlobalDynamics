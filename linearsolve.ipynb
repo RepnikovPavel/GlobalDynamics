{
 "cells": [
  {
   "cell_type": "code",
   "execution_count": null,
   "metadata": {},
   "outputs": [],
   "source": [
    "from funcs import *\n",
    "from tqdm import tqdm\n",
    "import matplotlib"
   ]
  },
  {
   "cell_type": "code",
   "execution_count": null,
   "metadata": {},
   "outputs": [],
   "source": [
    "@jit(nopython=True)\n",
    "def F(x):\n",
    "    return 1.0\n",
    "\n",
    "@jit(nopython=True)\n",
    "def leftGU(x):\n",
    "    return 0.0\n",
    "@jit(nopython=True)\n",
    "def rightGU(x):\n",
    "    return 0.0\n",
    "\n",
    "@jit(nopython=True)\n",
    "def NU(x):\n",
    "    return 0.0"
   ]
  },
  {
   "cell_type": "code",
   "execution_count": null,
   "metadata": {},
   "outputs": [],
   "source": [
    "def solve(Nx,Nt,hx,tau,t,x,u_):\n",
    "    u = np.copy(u_)\n",
    "    Nx = len(x)\n",
    "    B = np.zeros(shape=(Nx,))\n",
    "    A = np.zeros(shape=(Nx, Nx))\n",
    "    a1 = -1.0/(hx**2)\n",
    "    a2 = (1.0/tau+2.0/(hx**2))\n",
    "    a3 = -1.0/(hx**2)\n",
    "    A[0][0] = 1.0\n",
    "    A[Nx-1][Nx-1] = 1.0 \n",
    "    for i in range(1,Nx-1):\n",
    "        A[i][i-1] = a1\n",
    "        A[i][i]   = a2 \n",
    "        A[i][i+1] = a3 \n",
    "    for k in range(Nt-1):\n",
    "        B[0] = leftGU(x[0])\n",
    "        B[Nx-1] = rightGU(x[Nx-1])\n",
    "        for i in range(1,Nx-1):\n",
    "            B[i] = F(x[i])+1.0/tau*u[k][i]\n",
    "        u[k+1] = np.matmul(np.linalg.inv(A),B)\n",
    "    return u"
   ]
  },
  {
   "cell_type": "code",
   "execution_count": null,
   "metadata": {},
   "outputs": [],
   "source": [
    "hx = 0.01\n",
    "ax= -1.0\n",
    "bx = 1.0\n",
    "Nx=  int((bx-ax)/hx)+1\n",
    "xgrid = np.linspace(ax,bx,num=Nx)\n",
    "tau = 0.01\n",
    "T = 1.0\n",
    "t0 = 2005.0\n",
    "Nt = int((t0+T-t0)/tau) + 1\n",
    "tgrid = np.linspace(start=t0, stop=t0+T,num=Nt)\n",
    "t = np.copy(tgrid)\n",
    "x = np.copy(xgrid)\n",
    "u = np.zeros(shape=(len(tgrid),len(xgrid)))"
   ]
  },
  {
   "cell_type": "code",
   "execution_count": null,
   "metadata": {},
   "outputs": [],
   "source": [
    "for i in range(len(x)):\n",
    "    u[0][i] = NU(x[i])"
   ]
  },
  {
   "cell_type": "code",
   "execution_count": null,
   "metadata": {},
   "outputs": [],
   "source": [
    "u = solve(Nx,Nt,hx,tau,t,x,u)"
   ]
  },
  {
   "cell_type": "code",
   "execution_count": null,
   "metadata": {},
   "outputs": [],
   "source": [
    "fig,ax = plt.subplots()\n",
    "fig.set_size_inches(16,9)\n",
    "n_lines = np.minimum(100, len(u))\n",
    "c = np.arange(1, n_lines + 1)\n",
    "norm = matplotlib.colors.Normalize(vmin=c.min(), vmax=c.max())\n",
    "cmap = matplotlib.cm.ScalarMappable(norm=norm, cmap=matplotlib.cm.jet)\n",
    "for i in tqdm(range(n_lines)):\n",
    "    ax.plot(xgrid, u[i],color= cmap.to_rgba(i))\n",
    "fig.colorbar(cmap, ticks=c,ax=ax)"
   ]
  },
  {
   "cell_type": "code",
   "execution_count": null,
   "metadata": {},
   "outputs": [],
   "source": []
  },
  {
   "cell_type": "code",
   "execution_count": null,
   "metadata": {},
   "outputs": [],
   "source": []
  }
 ],
 "metadata": {
  "kernelspec": {
   "display_name": "ml",
   "language": "python",
   "name": "python3"
  },
  "language_info": {
   "codemirror_mode": {
    "name": "ipython",
    "version": 3
   },
   "file_extension": ".py",
   "mimetype": "text/x-python",
   "name": "python",
   "nbconvert_exporter": "python",
   "pygments_lexer": "ipython3",
   "version": "3.11.5"
  }
 },
 "nbformat": 4,
 "nbformat_minor": 2
}
