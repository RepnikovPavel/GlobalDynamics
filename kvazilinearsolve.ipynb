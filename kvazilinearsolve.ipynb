{
 "cells": [
  {
   "cell_type": "code",
   "execution_count": null,
   "metadata": {},
   "outputs": [],
   "source": [
    "from funcs import *\n",
    "from tqdm import tqdm\n",
    "import matplotlib"
   ]
  },
  {
   "cell_type": "code",
   "execution_count": null,
   "metadata": {},
   "outputs": [],
   "source": [
    "@jit(nopython=True)\n",
    "def F(u):\n",
    "    # l = 2.0\n",
    "    # return u**l\n",
    "    # return 1.0\n",
    "    # return 0.0\n",
    "    return np.square(u)\n",
    "    # return 80.0*10**6\n",
    "\n",
    "@jit(nopython=True)\n",
    "def leftGU(x):\n",
    "    return 0.0\n",
    "\n",
    "@jit(nopython=True)\n",
    "def rightGU(x):\n",
    "    return 0.0\n",
    "\n",
    "NU_ = Distrib(make_func(\"triangle_m_f\", [-0.5,0.0,0.5]), supp_of_func=(-0.5,0.0,0.5))\n",
    "\n",
    "def NU(x,xgrid):\n",
    "    # return NU_(x)  \n",
    "    # return 0.0\n",
    "    mu = xgrid[int(len(xgrid)/2)]\n",
    "    sigma = 0.05\n",
    "    return np.exp(-0.5*np.square((x-mu)/sigma))*10.0\n",
    "    # print(int(len(xgrid)/2))\n",
    "    # print(x)\n",
    "    # if x == xgrid[int(len(xgrid)/2)]:\n",
    "    #     return 17.0*10**6\n",
    "    # else:\n",
    "    #     return 0.0\n",
    "\n",
    "@jit(nopython =True)\n",
    "def D(x, u):\n",
    "    sigma = 0.05\n",
    "    mu = 0.75\n",
    "    return u*(1.0 - np.exp(-0.5*np.square((x-mu)/sigma)))+0.1*u\n",
    "    # return 1.0\n",
    "    # return 1.0 - np.exp(-0.5*np.square((x-mu)/sigma)) + 0.1*u\n",
    "    # return 1.0 - np.exp(-0.5*np.square((x-mu)/sigma))\n"
   ]
  },
  {
   "cell_type": "code",
   "execution_count": null,
   "metadata": {},
   "outputs": [],
   "source": [
    "# @jit(nopython = True)\n",
    "def solve(Nx,Nt,hx,tau,t,x,u_):\n",
    "    u = np.copy(u_)\n",
    "    Nx = len(x)\n",
    "    B = np.zeros(shape=(Nx,))\n",
    "    A = np.zeros(shape=(Nx, Nx))\n",
    "    end_ = False\n",
    "    for k in tqdm(range(Nt-1)):\n",
    "        u_s = np.copy(u[k])        \n",
    "        for s in range(20):\n",
    "            A[0][0] = -1.0\n",
    "            A[0][1] = 1.0\n",
    "            A[Nx-1][Nx-1] = 1.0 \n",
    "            A[Nx-1][Nx-2] = -1.0 \n",
    "            for i in range(1,Nx-1):\n",
    "                A[i][i-1] = 1.0/(4*hx**2)*D(x[i+1],u_s[i+1]) - 1.0/(4.0*hx**2)*D(x[i-1],u_s[i-1]) - 1.0/hx**2*D(x[i],u_s[i])\n",
    "                A[i][i]   = 1.0/tau+2.0/(hx**2)*D(x[i],u_s[i])\n",
    "                A[i][i+1] = -1.0/(4*hx**2)*D(x[i+1],u_s[i+1]) + 1.0/(4.0*hx**2)*D(x[i-1],u_s[i-1]) - 1.0/hx**2*D(x[i],u_s[i])\n",
    "            B[0] = leftGU(x[0])\n",
    "            B[Nx-1] = rightGU(x[Nx-1])\n",
    "            for i in range(1,Nx-1):\n",
    "                B[i] = F(u_s[i])+1.0/tau*u[k][i]\n",
    "            try:\n",
    "                u_s = np.matmul(np.linalg.inv(A),B)\n",
    "            except:\n",
    "                end_ = True\n",
    "                break\n",
    "        if np.sum(np.isnan(u_s)) > 0 or np.sum(np.isinf(u_s)) > 0:\n",
    "            end_ = True\n",
    "        if end_:\n",
    "            return u[:k+1]\n",
    "        u[k+1] = np.copy(u_s)\n",
    "    return u"
   ]
  },
  {
   "cell_type": "code",
   "execution_count": null,
   "metadata": {},
   "outputs": [],
   "source": [
    "hx = 0.01\n",
    "ax= -1.0\n",
    "bx = 1.0\n",
    "Nx=  int((bx-ax)/hx)+1\n",
    "xgrid = np.linspace(ax,bx,num=Nx)\n",
    "tau = 0.01\n",
    "T = 10.0\n",
    "t0 = 0.0\n",
    "Nt = int((t0+T-t0)/tau) + 1\n",
    "tgrid = np.linspace(start=t0, stop=t0+T,num=Nt)\n",
    "t = np.copy(tgrid)\n",
    "x = np.copy(xgrid)\n",
    "u = np.zeros(shape=(len(tgrid),len(xgrid)))"
   ]
  },
  {
   "cell_type": "code",
   "execution_count": null,
   "metadata": {},
   "outputs": [],
   "source": [
    "for i in range(len(x)):\n",
    "    u[0][i] = NU(x[i],x)"
   ]
  },
  {
   "cell_type": "code",
   "execution_count": null,
   "metadata": {},
   "outputs": [],
   "source": [
    "u = solve(Nx,Nt,hx,tau,t,x,u)"
   ]
  },
  {
   "cell_type": "code",
   "execution_count": null,
   "metadata": {},
   "outputs": [],
   "source": [
    "last_iter = 0\n",
    "for i in range(len(u)):\n",
    "    if np.sum(np.isnan(u[i])) > 0 or np.sum(np.isinf(u[i])) > 0:\n",
    "        last_iter = i-1\n",
    "        break\n",
    "    last_iter += 1\n",
    "print(last_iter, len(t))"
   ]
  },
  {
   "cell_type": "code",
   "execution_count": null,
   "metadata": {},
   "outputs": [],
   "source": [
    "fig,ax = plt.subplots()\n",
    "fig.set_size_inches(16,9)\n",
    "n_lines = last_iter\n",
    "# n_lines = len(u)\n",
    "# c = np.arange(1, n_lines+1)\n",
    "c = np.copy(tgrid)\n",
    "norm = matplotlib.colors.Normalize(vmin=c.min(), vmax=c.max())\n",
    "cmap= matplotlib.cm.jet\n",
    "m = matplotlib.cm.ScalarMappable(norm=norm, cmap=cmap)\n",
    "ax.scatter(xgrid, u[0],color='k',label=r'$N_{0}$')\n",
    "for i in tqdm(range(1,int(n_lines)-1)):\n",
    "    ax.plot(xgrid, u[i],color= m.to_rgba(tgrid[i]))\n",
    "    ax.plot(xgrid, [D(x[j],u[i][j]) for j in range(len(x))],c='k')\n",
    "ax.set_yscale('symlog')\n",
    "# ax.set_yscale('log')\n",
    "clb = fig.colorbar(m, ax=ax)\n",
    "clb.ax.set_title('t,s')\n",
    "ax.set_ylabel('N')\n",
    "ax.legend()\n",
    "# ax.text(15, -0.01, \"Correlation Graph between Citation & Favorite Count\")\n",
    "ax.set_title(r'$k(x,u) = 1-e^{-0.5 (\\frac{x-\\mu}{\\sigma})^2}+0.1 \\cdot u$', y=-0.1)"
   ]
  },
  {
   "cell_type": "code",
   "execution_count": null,
   "metadata": {},
   "outputs": [],
   "source": []
  },
  {
   "cell_type": "code",
   "execution_count": null,
   "metadata": {},
   "outputs": [],
   "source": []
  },
  {
   "cell_type": "code",
   "execution_count": null,
   "metadata": {},
   "outputs": [],
   "source": []
  },
  {
   "cell_type": "code",
   "execution_count": null,
   "metadata": {},
   "outputs": [],
   "source": []
  }
 ],
 "metadata": {
  "kernelspec": {
   "display_name": "ml",
   "language": "python",
   "name": "python3"
  },
  "language_info": {
   "codemirror_mode": {
    "name": "ipython",
    "version": 3
   },
   "file_extension": ".py",
   "mimetype": "text/x-python",
   "name": "python",
   "nbconvert_exporter": "python",
   "pygments_lexer": "ipython3",
   "version": "3.11.5"
  }
 },
 "nbformat": 4,
 "nbformat_minor": 2
}
