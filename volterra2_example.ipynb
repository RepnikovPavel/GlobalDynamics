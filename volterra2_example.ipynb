{
 "cells": [
  {
   "cell_type": "code",
   "execution_count": null,
   "metadata": {},
   "outputs": [],
   "source": [
    "import numpy as np\n",
    "import matplotlib.pyplot as plt\n",
    "from matplotlib import cm\n",
    "%matplotlib widget"
   ]
  },
  {
   "cell_type": "code",
   "execution_count": null,
   "metadata": {},
   "outputs": [],
   "source": [
    "def f_(x):\n",
    "    return np.sinh(1.0+x+np.pi*np.square(x))\n",
    "def K_(x,xi):\n",
    "    return np.sin(0.5*np.pi*x*xi)"
   ]
  },
  {
   "cell_type": "code",
   "execution_count": null,
   "metadata": {},
   "outputs": [],
   "source": [
    "xia  = 0.0\n",
    "xib = 1.0\n",
    "xa = 0.0\n",
    "xb = 1.0\n",
    "h= 0.005\n",
    "N = int((xb-xa)/h)+1\n",
    "M = int((xib-xia)/h)+1\n",
    "x = np.linspace(xa,xb,N)\n",
    "xi = np.linspace(xia,xib,M)"
   ]
  },
  {
   "cell_type": "code",
   "execution_count": null,
   "metadata": {},
   "outputs": [],
   "source": [
    "y = np.zeros(shape=(N,))"
   ]
  },
  {
   "cell_type": "code",
   "execution_count": null,
   "metadata": {},
   "outputs": [],
   "source": [
    "y[0] = f_(x[0])\n",
    "for i in range(1,N):\n",
    "    s_ = 0.0\n",
    "    for j in range(1,i): \n",
    "        s_ += K_(x[i],xi[j])*y[j]\n",
    "    s_ *= h\n",
    "    y[i] = (f_(x[i])- s_ - 0.5*h*K_(x[i],x[0])*y[0])/(1.0+0.5*h*K_(x[i],x[i]))"
   ]
  },
  {
   "cell_type": "code",
   "execution_count": null,
   "metadata": {},
   "outputs": [],
   "source": [
    "y[int(0.5/h)]"
   ]
  },
  {
   "cell_type": "code",
   "execution_count": null,
   "metadata": {},
   "outputs": [],
   "source": [
    "y2 = np.zeros(shape=(N,))\n",
    "y2[0] = f_(x[0])\n",
    "y2[1] = f_(x[1])-0.5*h*K_(x[1],xi[0])*y[0]\n",
    "for i in range(2,N):\n",
    "    s_ = 0.0\n",
    "    for j in range(1,i):\n",
    "        s_ += K_(x[i],xi[j])*y2[j]\n",
    "    s_ *= h\n",
    "    y2[i] = f_(x[i])- s_ - 0.5*h*K_(x[i],x[0])*y[0]"
   ]
  },
  {
   "cell_type": "code",
   "execution_count": null,
   "metadata": {},
   "outputs": [],
   "source": [
    "y2[int(0.5/h)]"
   ]
  },
  {
   "cell_type": "code",
   "execution_count": null,
   "metadata": {},
   "outputs": [],
   "source": [
    "fig,ax = plt.subplots()\n",
    "ax.plot(x,y-y2)\n",
    "ax.tick_params('x', which='both', top=True, bottom=True)\n",
    "ax.tick_params('y', which='both', right=True, left=True)\n",
    "for tick in ax.get_xticklabels():\n",
    "    tick.set_fontsize(14)\n",
    "for tick in ax.get_yticklabels():\n",
    "    tick.set_fontsize(14)"
   ]
  },
  {
   "cell_type": "code",
   "execution_count": null,
   "metadata": {},
   "outputs": [],
   "source": []
  }
 ],
 "metadata": {
  "kernelspec": {
   "display_name": "ml",
   "language": "python",
   "name": "python3"
  },
  "language_info": {
   "codemirror_mode": {
    "name": "ipython",
    "version": 3
   },
   "file_extension": ".py",
   "mimetype": "text/x-python",
   "name": "python",
   "nbconvert_exporter": "python",
   "pygments_lexer": "ipython3",
   "version": "3.11.5"
  }
 },
 "nbformat": 4,
 "nbformat_minor": 2
}
