{
 "cells": [
  {
   "cell_type": "code",
   "execution_count": null,
   "metadata": {},
   "outputs": [],
   "source": [
    "import matplotlib.pyplot as plt\n",
    "import numpy as np\n",
    "import geopandas as gpd\n",
    "import json\n",
    "from pprint import pprint\n",
    "import pandas as pd\n",
    "from shapely.geometry import Polygon\n",
    "import shapely\n",
    "from sklearn import linear_model\n",
    "import sklearn\n",
    "from sklearn.preprocessing import PolynomialFeatures\n",
    "from sklearn.metrics import r2_score\n",
    "from scipy import optimize\n",
    "import pysr\n",
    "from pysr import PySRRegressor\n",
    "from IPython.display import display, Math\n",
    "import torch\n",
    "from tqdm import tqdm\n",
    "%matplotlib widget"
   ]
  },
  {
   "cell_type": "code",
   "execution_count": null,
   "metadata": {},
   "outputs": [],
   "source": [
    "df = pd.read_csv(\n",
    "    './data/world_population.csv')\n",
    "df = df.sort_values(by=['World Population Percentage'],ascending=False)\n",
    "df[:10]"
   ]
  },
  {
   "cell_type": "code",
   "execution_count": null,
   "metadata": {},
   "outputs": [],
   "source": [
    "cNames = [el for el in df]\n",
    "CountryNames = df['Country/Territory'].values"
   ]
  },
  {
   "cell_type": "code",
   "execution_count": null,
   "metadata": {},
   "outputs": [],
   "source": [
    "name_index = {name_:ind for name_,ind in zip(CountryNames, range(len(df)))}"
   ]
  },
  {
   "cell_type": "code",
   "execution_count": null,
   "metadata": {},
   "outputs": [],
   "source": [
    "years_names = cNames[12:4:-1]\n",
    "years_ = np.array([int(el[:4]) for el in years_names],dtype=np.float64)\n",
    "years_"
   ]
  },
  {
   "cell_type": "code",
   "execution_count": null,
   "metadata": {},
   "outputs": [],
   "source": [
    "pops_ = np.zeros(shape=(len(df),len(years_names)))\n",
    "for i in range(len(df)):\n",
    "    pops_[i] = df.iloc[i][years_names].values"
   ]
  },
  {
   "cell_type": "code",
   "execution_count": null,
   "metadata": {},
   "outputs": [],
   "source": [
    "fig,ax = plt.subplots()\n",
    "for i in range(10):\n",
    "    ax.plot(years_, pops_[i]/10**9,label=CountryNames[i])\n",
    "ax.tick_params(axis='x', rotation=45)\n",
    "ax.legend(loc='center left', bbox_to_anchor=(1, 0.5))"
   ]
  },
  {
   "cell_type": "code",
   "execution_count": null,
   "metadata": {},
   "outputs": [],
   "source": []
  },
  {
   "cell_type": "markdown",
   "metadata": {},
   "source": [
    "# get velocity per country"
   ]
  },
  {
   "cell_type": "code",
   "execution_count": null,
   "metadata": {},
   "outputs": [],
   "source": [
    "velocities_ = []\n",
    "r2_vec = []\n",
    "for i in range(len(df)):\n",
    "    x_ = years_.reshape(-1,1)\n",
    "    y_ = pops_[i]\n",
    "    reg = linear_model.Ridge(alpha=.5)\n",
    "    reg.fit(x_,y_)\n",
    "    velocities_.append(reg.coef_[0])\n",
    "    predict_ = reg.predict(x_)\n",
    "    r2_vec.append(r2_score(y_,predict_))"
   ]
  },
  {
   "cell_type": "code",
   "execution_count": null,
   "metadata": {},
   "outputs": [],
   "source": [
    "velocities_[name_index['Russia']]"
   ]
  },
  {
   "cell_type": "code",
   "execution_count": null,
   "metadata": {},
   "outputs": [],
   "source": [
    "# fig,ax = plt.subplots()\n",
    "# for i in range(len(df)):\n",
    "fig,ax = plt.subplots()\n",
    "fig.set_size_inches(16,9)\n",
    "cnt_ = 0\n",
    "for name_,v_,r2 in zip(CountryNames,velocities_,r2_vec):\n",
    "    if r2 < 0.9:\n",
    "        ax.plot(years_, pops_[name_index[name_]],label=name_)\n",
    "        cnt_ +=1\n",
    "ax.tick_params(axis='x', rotation=45)\n",
    "ax.legend(loc='center left', bbox_to_anchor=(1, 0.5))\n",
    "# ax.set_yscale('log')\n",
    "print(cnt_,len(CountryNames))"
   ]
  },
  {
   "cell_type": "code",
   "execution_count": null,
   "metadata": {},
   "outputs": [],
   "source": [
    "t_vec =np.copy(years_)"
   ]
  },
  {
   "cell_type": "code",
   "execution_count": null,
   "metadata": {},
   "outputs": [],
   "source": [
    "total_N_per_year = np.zeros(shape=(len(t_vec),))\n",
    "for i in range(len(t_vec)):\n",
    "    total_N_per_year[i] = np.sum(pops_[:,i])"
   ]
  },
  {
   "cell_type": "code",
   "execution_count": null,
   "metadata": {},
   "outputs": [],
   "source": [
    "x_ = [[el] for el in t_vec]\n"
   ]
  },
  {
   "cell_type": "code",
   "execution_count": null,
   "metadata": {},
   "outputs": [],
   "source": [
    "y_ = [el for el in total_N_per_year]\n"
   ]
  },
  {
   "cell_type": "code",
   "execution_count": null,
   "metadata": {},
   "outputs": [],
   "source": [
    "poly = PolynomialFeatures(degree=1, include_bias=False)\n",
    "poly_features = poly.fit_transform(t_vec.reshape(-1, 1))"
   ]
  },
  {
   "cell_type": "code",
   "execution_count": null,
   "metadata": {},
   "outputs": [],
   "source": [
    "fig,ax = plt.subplots()\n",
    "fig.set_size_inches(10,4)\n",
    "ax.plot(t_vec,total_N_per_year,label='real')\n",
    "ax.set_title(r'$\\Sigma$')\n",
    "# C0 = 186*10**9\n",
    "# T0 = 2007.0\n",
    "# y_vec = C0/(T0-t_vec)\n",
    "# ax.plot(t_vec, y_vec, label=r'$\\frac{d}{dt}u = \\frac{1}{C_0}u^2$')\n",
    "# P_vec = 6.463/(1.0+11.926*np.exp(-0.097*(t_vec-1960.0)))*10**9\n",
    "# ax.plot(t_vec, P_vec ,label =r'$sigma model$')\n",
    "# ax.set_yscale('log')\n",
    "reg = linear_model.Ridge(alpha=.5)\n",
    "reg.fit(x_,y_)\n",
    "lin_vec = reg.intercept_ + reg.coef_[0]*t_vec\n",
    "ax.plot(t_vec, lin_vec ,label =r'$y={} \\cdot 10^9 +{}\\cdot 10^6 t$'.format(str(reg.intercept_/10**9)[:4],str(reg.coef_[0]/10**6)[:4]))\n",
    "ax.legend()\n",
    "pred_ = reg.predict(x_)\n",
    "r2_score(y_,pred_)"
   ]
  },
  {
   "cell_type": "code",
   "execution_count": null,
   "metadata": {},
   "outputs": [],
   "source": [
    "x_ = np.array([\\\n",
    "1000.0,\n",
    "1750.0,\n",
    "1800.0,\n",
    "1850.0,\n",
    "1900.0,\n",
    "1950.0,\n",
    "1955.0,\n",
    "1960.0,\n",
    "1965.0,\n",
    "1970.0,\n",
    "1975.0,\n",
    "1980.0,\n",
    "1985.0,\n",
    "1990.0,\n",
    "1995.0,\n",
    "2000.0,\n",
    "2005.0,\n",
    "2013.0],np.float64)\n",
    "y_ = np.array([\\\n",
    "400000.0,\n",
    "800000.0,\n",
    "1000000.0,\n",
    "1262000.0,\n",
    "1656000.0,\n",
    "2518629.0,\n",
    "2755823.0,\n",
    "3021475.0,\n",
    "3334874.0,\n",
    "3692492.0,\n",
    "4068109.0,\n",
    "4434682.0,\n",
    "4830979.0,\n",
    "5263593.0,\n",
    "5674380.0,\n",
    "6070581.0,\n",
    "6343628.0,\n",
    "7162119.0\n",
    "],dtype=np.float64)*1000"
   ]
  },
  {
   "cell_type": "code",
   "execution_count": null,
   "metadata": {},
   "outputs": [],
   "source": [
    "dydt_ = np.zeros(shape=(len(y_)-1,))\n",
    "for i in range(len(dydt_)):\n",
    "    tau = x_[i+1]-x_[i]\n",
    "    dydt_[i] = (y_[i+1]-y_[i])/tau"
   ]
  },
  {
   "cell_type": "code",
   "execution_count": null,
   "metadata": {},
   "outputs": [],
   "source": [
    "fig,ax =plt.subplots()\n",
    "ax.plot(x_,y_)\n",
    "ax.set_yscale('log')"
   ]
  },
  {
   "cell_type": "code",
   "execution_count": null,
   "metadata": {},
   "outputs": [],
   "source": [
    "fig,ax =plt.subplots()\n",
    "ax.plot(x_[:-1],dydt_)\n",
    "ax.set_yscale('log')\n",
    "print(np.max(dydt_))"
   ]
  },
  {
   "cell_type": "code",
   "execution_count": null,
   "metadata": {},
   "outputs": [],
   "source": [
    "a = torch.tensor([186.0,2015.0]).clone().detach().requires_grad_(True)\n",
    "x_t = torch.tensor(x_).clone().detach().requires_grad_(False)\n",
    "y_t = torch.tensor(y_).clone().detach().requires_grad_(False)\n",
    "z = [a]\n",
    "last_lr=0.01\n",
    "optimizer = torch.optim.Adam(z, last_lr, [0.5, 0.7])\n",
    "EPOCH = 100000\n",
    "def func(x,params):\n",
    "    return params[0]*10**9/(params[1]-x)\n",
    "def loss(x_vec,y_vec,params):\n",
    "    y_pred = func(x_vec, params)\n",
    "    return  1.0/len(x_vec)*torch.sum(torch.square(torch.log(y_pred)-torch.log(y_vec)))\n",
    "loss_vec = []\n",
    "for i in tqdm(range(EPOCH)):\n",
    "    if i % 30000==0 and i>0:\n",
    "        last_lr = last_lr/10.0\n",
    "        for g in optimizer.param_groups:\n",
    "            g['lr'] = last_lr\n",
    "    optimizer.zero_grad()\n",
    "    loss_ = loss(x_t,y_t, a)  \n",
    "    loss_for_plot = float(loss_.cpu().detach().numpy())\n",
    "    loss_vec.append(loss_for_plot)\n",
    "    loss_.backward()\n",
    "    optimizer.step()\n",
    "fig,ax = plt.subplots()\n",
    "ax.plot(np.arange(EPOCH),loss_vec)\n",
    "ax.set_yscale('log')\n",
    "a = a.cpu().detach().numpy()\n",
    "alpha = a[0]\n",
    "T0 = a[1]\n",
    "print(f'alpha {alpha} T0 {T0}')"
   ]
  },
  {
   "cell_type": "code",
   "execution_count": null,
   "metadata": {},
   "outputs": [],
   "source": [
    "alpha"
   ]
  },
  {
   "cell_type": "code",
   "execution_count": null,
   "metadata": {},
   "outputs": [],
   "source": [
    "# alpha_ = 279.86\n",
    "# T0_=2048.0\n",
    "# preds_ = alpha_*10**9/(T0_-x_)\n",
    "preds_ = alpha*10**9/(T0-x_)\n"
   ]
  },
  {
   "cell_type": "code",
   "execution_count": null,
   "metadata": {},
   "outputs": [],
   "source": [
    "fig,ax =plt.subplots()\n",
    "fig.set_size_inches(16,9)\n",
    "ax.plot(x_,y_,label='data')\n",
    "ax.plot(x_, preds_,label='predict')\n",
    "# ax.set_yscale('log')\n",
    "ax.legend()"
   ]
  },
  {
   "cell_type": "code",
   "execution_count": null,
   "metadata": {},
   "outputs": [],
   "source": []
  }
 ],
 "metadata": {
  "kernelspec": {
   "display_name": "ml",
   "language": "python",
   "name": "python3"
  },
  "language_info": {
   "codemirror_mode": {
    "name": "ipython",
    "version": 3
   },
   "file_extension": ".py",
   "mimetype": "text/x-python",
   "name": "python",
   "nbconvert_exporter": "python",
   "pygments_lexer": "ipython3",
   "version": "3.11.5"
  }
 },
 "nbformat": 4,
 "nbformat_minor": 2
}
