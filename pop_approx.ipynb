{
 "cells": [
  {
   "cell_type": "code",
   "execution_count": null,
   "metadata": {},
   "outputs": [],
   "source": [
    "import matplotlib.pyplot as plt\n",
    "import numpy as np\n",
    "import geopandas as gpd\n",
    "import json\n",
    "from pprint import pprint\n",
    "import pandas as pd\n",
    "from shapely.geometry import Polygon\n",
    "import shapely\n",
    "from sklearn import linear_model\n",
    "import sklearn\n",
    "from sklearn.preprocessing import PolynomialFeatures\n",
    "%matplotlib widget"
   ]
  },
  {
   "cell_type": "code",
   "execution_count": null,
   "metadata": {},
   "outputs": [],
   "source": [
    "df = pd.read_csv(\n",
    "    './data/world_population.csv')\n",
    "df"
   ]
  },
  {
   "cell_type": "code",
   "execution_count": null,
   "metadata": {},
   "outputs": [],
   "source": [
    "cNames = [el for el in df]"
   ]
  },
  {
   "cell_type": "code",
   "execution_count": null,
   "metadata": {},
   "outputs": [],
   "source": [
    "years_names = cNames[12:4:-1]\n",
    "years_names"
   ]
  },
  {
   "cell_type": "code",
   "execution_count": null,
   "metadata": {},
   "outputs": [],
   "source": [
    "pops_ = np.zeros(shape=(len(df),len(years_names)))\n",
    "for i in range(len(df)):\n",
    "    pops_[i] = df.iloc[i][years_names].values"
   ]
  },
  {
   "cell_type": "code",
   "execution_count": null,
   "metadata": {},
   "outputs": [],
   "source": [
    "t_vec = np.asarray([float(el[:4]) for el in years_names])\n",
    "print(t_vec)"
   ]
  },
  {
   "cell_type": "code",
   "execution_count": null,
   "metadata": {},
   "outputs": [],
   "source": [
    "total_N_per_year = np.zeros(shape=(len(t_vec),))\n",
    "for i in range(len(t_vec)):\n",
    "    total_N_per_year[i] = np.sum(pops_[:,i])\n",
    "print(total_N_per_year)"
   ]
  },
  {
   "cell_type": "code",
   "execution_count": null,
   "metadata": {},
   "outputs": [],
   "source": [
    "[el for el in zip(t_vec,total_N_per_year)]"
   ]
  },
  {
   "cell_type": "code",
   "execution_count": null,
   "metadata": {},
   "outputs": [],
   "source": [
    "x_ = [[el] for el in t_vec]\n",
    "x_"
   ]
  },
  {
   "cell_type": "code",
   "execution_count": null,
   "metadata": {},
   "outputs": [],
   "source": [
    "y_ = [el for el in total_N_per_year]\n",
    "y_"
   ]
  },
  {
   "cell_type": "code",
   "execution_count": null,
   "metadata": {},
   "outputs": [],
   "source": [
    "poly = PolynomialFeatures(degree=1, include_bias=False)\n",
    "poly_features = poly.fit_transform(t_vec.reshape(-1, 1))"
   ]
  },
  {
   "cell_type": "code",
   "execution_count": null,
   "metadata": {},
   "outputs": [],
   "source": [
    "fig,ax = plt.subplots()\n",
    "fig.set_size_inches(10,4)\n",
    "ax.plot(t_vec,total_N_per_year,label='real')\n",
    "ax.set_title(r'$\\Sigma$')\n",
    "C0 = 186*10**9\n",
    "T0 = 2007.0\n",
    "y_vec = C0/(T0-t_vec)\n",
    "# ax.plot(t_vec, y_vec, label=r'$\\frac{d}{dt}u = \\frac{1}{C_0}u^2$')\n",
    "# P_vec = 6.463/(1.0+11.926*np.exp(-0.097*(t_vec-1960.0)))*10**9\n",
    "# ax.plot(t_vec, P_vec ,label =r'$sigma model$')\n",
    "# ax.set_yscale('log')\n",
    "reg = linear_model.Ridge(alpha=.5)\n",
    "reg.fit(x_,y_)\n",
    "lin_vec = reg.intercept_ + reg.coef_[0]*t_vec\n",
    "ax.plot(t_vec, lin_vec ,label =r'$y={} \\cdot 10^9 +{}\\cdot 10^6 x$'.format(str(reg.intercept_/10**9)[:4],str(reg.coef_[0]/10**6)[:4]))\n",
    "ax.legend()"
   ]
  },
  {
   "cell_type": "code",
   "execution_count": null,
   "metadata": {},
   "outputs": [],
   "source": []
  },
  {
   "cell_type": "code",
   "execution_count": null,
   "metadata": {},
   "outputs": [],
   "source": [
    "fig,ax = plt.subplots()\n",
    "fig.set_size_inches(10,4)\n",
    "for i in range(len(pops_)):\n",
    "    ax.plot(t_vec, pops_[i])\n",
    "ax.set_title('per country')"
   ]
  },
  {
   "cell_type": "code",
   "execution_count": null,
   "metadata": {},
   "outputs": [],
   "source": []
  }
 ],
 "metadata": {
  "kernelspec": {
   "display_name": "ml",
   "language": "python",
   "name": "python3"
  },
  "language_info": {
   "codemirror_mode": {
    "name": "ipython",
    "version": 3
   },
   "file_extension": ".py",
   "mimetype": "text/x-python",
   "name": "python",
   "nbconvert_exporter": "python",
   "pygments_lexer": "ipython3",
   "version": "3.11.5"
  }
 },
 "nbformat": 4,
 "nbformat_minor": 2
}
