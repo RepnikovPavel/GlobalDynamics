{
 "cells": [
  {
   "cell_type": "code",
   "execution_count": null,
   "metadata": {},
   "outputs": [],
   "source": [
    "import numpy as np\n",
    "import matplotlib.pyplot as plt\n",
    "from matplotlib import cm\n",
    "%matplotlib widget"
   ]
  },
  {
   "cell_type": "markdown",
   "metadata": {},
   "source": [
    "Уравнение переноса  \n",
    "вар 15  \n",
    "$u_t + с(t,x)u_x=f(t,x)$  \n",
    "четырехточечная схема  \n",
    "готовые формулы см. стр. 97   \n",
    "$u_t+ (1+2tx)\\cos(tx)u_x=2\\tg(t)e^x$  \n",
    "$u(0,x)=x=\\phi(x)$  \n",
    "$u(t,0)=2t=\\psi(t)$  \n",
    "$(t,x) \\in [0,1] \\times [0,1]$  \n",
    "$t_m=  m\\tau, m\\in \\overline{0,100}$  \n",
    "$x_n = nh, n \\in \\overline{0,100}$  \n",
    "$\\tau=0.01,h=0.01$"
   ]
  },
  {
   "cell_type": "code",
   "execution_count": null,
   "metadata": {},
   "outputs": [],
   "source": [
    "def c_(t,x):\n",
    "    return (1.0+2.0*t*x)*np.cos(t*x)\n",
    "def f_(t,x):\n",
    "    return 2*np.tan(t)*np.exp(x)\n",
    "def phi(x):\n",
    "    return x\n",
    "def psi(t):\n",
    "    return 2.0*t"
   ]
  },
  {
   "cell_type": "code",
   "execution_count": null,
   "metadata": {},
   "outputs": [],
   "source": [
    "ta  = 0.0\n",
    "tb = 1.0\n",
    "xa = 0.0\n",
    "xb = 1.0\n",
    "tau = 0.01\n",
    "h = 0.01\n",
    "M = int((tb-ta)/tau)+1\n",
    "N = int((xb-xa)/h)+1\n",
    "t = np.linspace(ta,tb,M)\n",
    "x = np.linspace(xa,xb,N)"
   ]
  },
  {
   "cell_type": "code",
   "execution_count": null,
   "metadata": {},
   "outputs": [],
   "source": [
    "y = np.zeros(shape=(M,N))\n",
    "# НУ \n",
    "for n in range(N):\n",
    "    y[0][n] = phi(x[n])\n",
    "# ГУ\n",
    "for m in range(M):\n",
    "    y[m][0] = psi(t[m])"
   ]
  },
  {
   "cell_type": "code",
   "execution_count": null,
   "metadata": {},
   "outputs": [],
   "source": [
    "for m in range(M-1):\n",
    "    for n in range(N-1):\n",
    "        c = c_((m+1.0/2.0)*tau, (n+1.0/2.0)*h)\n",
    "        f = f_((m+1.0/2.0)*tau, (n+1.0/2.0)*h)\n",
    "        y[m+1][n+1] = 1.0/(1.0/(2*tau)+1.0/(2*h)*c)*( f-1.0/(2*tau)*(y[m+1][n]-y[m][n]-y[m][n+1]) - 1.0/(2.0*h)*c*(y[m][n+1]-y[m+1][n]-y[m][n]))"
   ]
  },
  {
   "cell_type": "code",
   "execution_count": null,
   "metadata": {},
   "outputs": [],
   "source": [
    "print(y[M-1][N-1])"
   ]
  },
  {
   "cell_type": "code",
   "execution_count": null,
   "metadata": {},
   "outputs": [],
   "source": [
    "X, Y = np.meshgrid(t, x,indexing='ij')\n",
    "Z = y\n",
    "fig, ax = plt.subplots(subplot_kw={\"projection\": \"3d\"})\n",
    "surf = ax.plot_surface(X, Y, Z, cmap=cm.jet,\n",
    "                       linewidth=0, antialiased=False)\n",
    "fig.colorbar(surf, shrink=0.5, aspect=5)\n",
    "plt.show()"
   ]
  },
  {
   "cell_type": "code",
   "execution_count": null,
   "metadata": {},
   "outputs": [],
   "source": []
  }
 ],
 "metadata": {
  "kernelspec": {
   "display_name": "ml",
   "language": "python",
   "name": "python3"
  },
  "language_info": {
   "codemirror_mode": {
    "name": "ipython",
    "version": 3
   },
   "file_extension": ".py",
   "mimetype": "text/x-python",
   "name": "python",
   "nbconvert_exporter": "python",
   "pygments_lexer": "ipython3",
   "version": "3.11.5"
  }
 },
 "nbformat": 4,
 "nbformat_minor": 2
}
