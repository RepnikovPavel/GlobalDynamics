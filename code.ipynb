{
 "cells": [
  {
   "cell_type": "code",
   "execution_count": null,
   "metadata": {},
   "outputs": [],
   "source": [
    "from funcs import *\n",
    "from tqdm import tqdm\n",
    "import matplotlib\n",
    "import string\n",
    "import plotly.graph_objs as go\n",
    "%matplotlib widget"
   ]
  },
  {
   "cell_type": "code",
   "execution_count": null,
   "metadata": {},
   "outputs": [],
   "source": [
    "world_pop = gpd.read_file('./data/pop.geo.json')\n",
    "world_pop['POP2005']=world_pop['POP2005'].astype(float)\n",
    "world_pop['area']=  world_pop.to_crs(6933).area.astype(float)*0.000001\n",
    "world_pop['density'] = (world_pop['POP2005'].div(world_pop['area']))"
   ]
  },
  {
   "cell_type": "code",
   "execution_count": null,
   "metadata": {},
   "outputs": [],
   "source": [
    "country_name_index = {}\n",
    "for i in range(len(world_pop)):\n",
    "    row_i = world_pop.iloc[i]\n",
    "    country_name_index.update({row_i['NAME']:i})"
   ]
  },
  {
   "cell_type": "code",
   "execution_count": null,
   "metadata": {},
   "outputs": [],
   "source": [
    "polygons_ = get_polygons(world_pop['geometry'])\n",
    "source_polygons = get_source_polygons(world_pop['geometry'])\n",
    "N_vec_ = world_pop['POP2005'].values\n",
    "for i in range(len(N_vec_)):\n",
    "    if pd.isna(N_vec_[i]):\n",
    "        N_vec_[i]=1.0\n",
    "Names_ = world_pop['NAME'].values\n",
    "Areas_ = world_pop['area'].values"
   ]
  },
  {
   "cell_type": "code",
   "execution_count": null,
   "metadata": {},
   "outputs": [],
   "source": [
    "hx = 1.0\n",
    "hy = 1.0"
   ]
  },
  {
   "cell_type": "code",
   "execution_count": null,
   "metadata": {},
   "outputs": [],
   "source": [
    "bounds_ = bounds_by_polygons(polygons_)\n",
    "xgrid,ygrid = make_grids(hx,hy,bounds_)"
   ]
  },
  {
   "cell_type": "code",
   "execution_count": null,
   "metadata": {},
   "outputs": [],
   "source": [
    "fig,ax = plt.subplots()\n",
    "fig.set_size_inches(16,9)\n",
    "for i in range(len(polygons_ )):\n",
    "    ax.plot(polygons_[i][0],polygons_[i][1],c='k')"
   ]
  },
  {
   "cell_type": "code",
   "execution_count": null,
   "metadata": {},
   "outputs": [],
   "source": [
    "masks_per_state = get_binary_mask_per_state_cv2(source_polygons,\n",
    "                                xgrid, ygrid)\n",
    "mask_of_earth = CUPmasks(masks_per_state)\n",
    "mask_of_water = np.logical_not(mask_of_earth)"
   ]
  },
  {
   "cell_type": "code",
   "execution_count": null,
   "metadata": {},
   "outputs": [],
   "source": [
    "masks_with_N = [masks_per_state[i].astype(np.float64)*N_vec_[i] for i in range(len(masks_per_state))]"
   ]
  },
  {
   "cell_type": "code",
   "execution_count": null,
   "metadata": {},
   "outputs": [],
   "source": [
    "mask_of_earth_N = None \n",
    "for i in range(len(masks_with_N)):\n",
    "    if mask_of_earth_N is None:\n",
    "        mask_of_earth_N = masks_with_N[i]\n",
    "    else:\n",
    "        mask_of_earth_N += masks_with_N[i]"
   ]
  },
  {
   "cell_type": "code",
   "execution_count": null,
   "metadata": {},
   "outputs": [],
   "source": [
    "cities = pd.read_csv('./data/worldcities.csv')"
   ]
  },
  {
   "cell_type": "code",
   "execution_count": null,
   "metadata": {},
   "outputs": [],
   "source": [
    "cities_mask = np.zeros(shape=(len(xgrid),len(ygrid)),dtype=np.float64)\n",
    "for i in range(len(cities)):\n",
    "    x = cities.iloc[i]['lng']\n",
    "    y = cities.iloc[i]['lat']\n",
    "    z = cities.iloc[i]['population']\n",
    "    xi = int((x-xgrid[0])/(xgrid[-1]-xgrid[0])*(len(xgrid)-1))\n",
    "    yi = int((y-ygrid[0])/(ygrid[-1]-ygrid[0])*(len(ygrid)-1))\n",
    "    if pd.isna(z):\n",
    "        z = 1.0\n",
    "    cities_mask[xi][yi] +=  z"
   ]
  },
  {
   "cell_type": "code",
   "execution_count": null,
   "metadata": {},
   "outputs": [],
   "source": [
    "@jit(nopython=True)\n",
    "def F(t,x,y,u):\n",
    "    return 0.0\n",
    "@jit(nopython =True)\n",
    "def D(x,y,u,kmask,xindex,yindex):\n",
    "    return kmask[xindex][yindex]\n",
    "@jit(nopython=True)\n",
    "def solve(Nx,Ny,Nt,hx,hy,tau,t,x,y,u_, water_mask_,earth_,kmask):\n",
    "    solutions = np.zeros(shape=(Nt,Nx,Ny))\n",
    "    solutions[0] = np.copy(u_)\n",
    "    u = np.copy(u_)\n",
    "    end_ = False\n",
    "    iters_ = 1\n",
    "    # N = Nx*Ny\n",
    "    # A = np.zeros(shape=(N,N))\n",
    "    for k in range(Nt-1):\n",
    "        print(k,Nt, np.sum(u)/10**9)\n",
    "        u_s = np.copy(u)\n",
    "        for s in range(iters_):\n",
    "            for i in range(1,Nx-1):\n",
    "                for j in range(1,Ny-1):\n",
    "                    L_x = (D(x[i+1],y[j],u_s[i+1][j],kmask,i+1,j)-D(x[i-1],y[j],u_s[i-1][j],kmask,i-1,j))*(u[i+1][j]-u[i-1][j])/4.0/hx**2 + D(x[i],y[j],u_s[i][j],kmask,i,j)*(u[i+1][j]-2.0*u[i][j]+u[i-1][j])/hx**2\n",
    "                    L_y = (D(x[i],y[j+1],u_s[i][j+1],kmask,i,j+1)-D(x[i],y[j-1],u_s[i][j-1],kmask,i,j-1))*(u[i][j+1]-u[i][j-1])/4.0/hy**2 + D(x[i],y[j],u_s[i][j],kmask,i,j)*(u[i][j+1]-2.0*u[i][j]+u[i][j-1])/hy**2\n",
    "                    u_s[i][j] = u[i][j] + tau*(L_x+ L_y + F(t[k],x[i],y[j],u_s[i][j]))\n",
    "        is_nan = np.sum(np.isnan(u_s)) > 0\n",
    "        is_inf = np.sum(np.isinf(u_s)) > 0\n",
    "        is_neg = np.sum(u_s < 0.0) > 0\n",
    "        if is_nan or is_inf or is_neg: \n",
    "            end_ = True\n",
    "            if is_nan:\n",
    "                print('nan')\n",
    "            if is_inf:\n",
    "                print('inf')\n",
    "            if is_neg:\n",
    "                print('neg')\n",
    "        if end_:\n",
    "            return solutions[:k+1]\n",
    "        u = np.copy(u_s)\n",
    "        solutions[k+1] = np.copy(u_s) \n",
    "    return solutions"
   ]
  },
  {
   "cell_type": "code",
   "execution_count": null,
   "metadata": {},
   "outputs": [],
   "source": [
    "poly_per_state = get_polygons_per_state(world_pop['geometry'])\n",
    "Nx = len(xgrid)\n",
    "Ny = len(ygrid)\n",
    "u_nu = np.zeros(shape=(Nx,Ny))\n",
    "for k in country_name_index:\n",
    "    country_name_ = k\n",
    "    c_mask = np.copy(masks_per_state[country_name_index[country_name_]])\n",
    "    c_N = N_vec_[country_name_index[country_name_]]\n",
    "    c_grid_count = np.sum(c_mask)\n",
    "    c_boundary_conditions_mask = np.logical_not(c_mask).astype(np.float64)\n",
    "    c_cities_vs = cities_mask*c_mask.astype(np.float64)\n",
    "    c_cities_vs_sum = np.sum(c_cities_vs)\n",
    "    number_of_cities_in_country_with_non_zero_people=  np.sum(c_cities_vs>0)\n",
    "    if number_of_cities_in_country_with_non_zero_people == 0:\n",
    "        continue\n",
    "    amnt_per_vertex = c_N/c_grid_count\n",
    "    c_cities_vs = c_cities_vs/np.sum(c_cities_vs)\n",
    "    c_cities_vs = c_cities_vs*c_N\n",
    "    u_nu += c_cities_vs"
   ]
  },
  {
   "cell_type": "code",
   "execution_count": null,
   "metadata": {},
   "outputs": [],
   "source": [
    "borders_per_state = get_binary_mask_per_state(poly_per_state,xgrid,ygrid,hx,hy)\n",
    "all_borders_ = CUPmasks(borders_per_state)\n",
    "kmask = 1.0-np.logical_or(all_borders_.astype(bool), mask_of_water).astype(np.float64)"
   ]
  },
  {
   "cell_type": "code",
   "execution_count": null,
   "metadata": {},
   "outputs": [],
   "source": [
    "fig, ax = plt.subplots()\n",
    "fig.set_size_inches(16,9)\n",
    "# cax = ax.matshow(borders_per_state[country_name_index['Russia']].T,cmap=matplotlib.cm.jet)\n",
    "cax = ax.matshow(kmask.T,cmap=matplotlib.cm.jet)\n",
    "cbar = fig.colorbar(cax)\n",
    "ax.invert_yaxis()"
   ]
  },
  {
   "cell_type": "code",
   "execution_count": null,
   "metadata": {},
   "outputs": [],
   "source": [
    "fig, ax = plt.subplots()\n",
    "fig.set_size_inches(16,9)\n",
    "cax = ax.matshow(u_nu.T,cmap=matplotlib.cm.jet,norm=matplotlib.colors.LogNorm())\n",
    "ax.invert_yaxis()"
   ]
  },
  {
   "cell_type": "code",
   "execution_count": null,
   "metadata": {},
   "outputs": [],
   "source": [
    "tau = hx/10**3\n",
    "T = 10\n",
    "t0 = 2005.0\n",
    "Nt = int((t0+T-t0)/tau) + 1\n",
    "tgrid = np.linspace(start=t0, stop=t0+T,num=Nt)\n",
    "t = np.copy(tgrid)\n",
    "x = np.copy(xgrid)\n",
    "y = np.copy(ygrid)\n",
    "u_vec = solve(Nx,Ny,Nt,hx,hy,tau,t,x,y,u_nu,mask_of_water.astype(np.float64),mask_of_earth.astype(np.float64),kmask)"
   ]
  },
  {
   "cell_type": "code",
   "execution_count": null,
   "metadata": {},
   "outputs": [],
   "source": [
    "fig,ax = plt.subplots()\n",
    "ax.plot(tgrid[:len(u_vec)], [np.sum(el) for el in u_vec])\n",
    "ax.set_yscale('log')"
   ]
  },
  {
   "cell_type": "code",
   "execution_count": null,
   "metadata": {},
   "outputs": [],
   "source": [
    "yaers_ = np.arange(t0,T+t0)\n",
    "solutions_ = []\n",
    "for i in range(len(u_vec)):\n",
    "    t_ = tgrid[i]\n",
    "    if np.isin(t_, yaers_):\n",
    "        solutions_.append(u_vec[i])"
   ]
  },
  {
   "cell_type": "code",
   "execution_count": null,
   "metadata": {},
   "outputs": [],
   "source": [
    "from matplotlib.widgets import Button, Slider\n",
    "\n",
    "fig, ax = plt.subplots()\n",
    "ax.set_xticklabels([])\n",
    "ax.set_yticklabels([])\n",
    "fig.set_size_inches(16,9)\n",
    "cax = ax.matshow(solutions_[0].T,cmap=matplotlib.cm.jet,norm=matplotlib.colors.LogNorm())\n",
    "ax.set_title(f'{int(yaers_[0])} {np.round(np.sum(solutions_[0])/10**9,1)} млрд')\n",
    "ax.invert_yaxis()\n",
    "fig.subplots_adjust(left=0.0, bottom=0.0)\n",
    "# cbar = fig.colorbar(cax)\n",
    "fig.tight_layout()\n",
    "\n",
    "axfreq = fig.add_axes([0.1, 0.0, 0.5, 0.03])\n",
    "freq_slider = Slider(\n",
    "    ax=axfreq,\n",
    "    label='',\n",
    "    valmin=yaers_[0],\n",
    "    valmax=yaers_[-1],\n",
    "    valinit=yaers_[0]\n",
    ")\n",
    "\n",
    "def update(val):\n",
    "    # ax.matshow(solutions_[0].T,cmap=matplotlib.cm.jet,norm=matplotlib.colors.LogNorm())\n",
    "    cax.set_data(solutions_[int(val- yaers_[0])].T)\n",
    "    ax.set_title(f'{int(val)} {np.round(np.sum(solutions_[int(val- yaers_[0])])/10**9,1)} млрд')\n",
    "    fig.canvas.draw_idle()\n",
    "    # plt.draw()\n",
    "\n",
    "freq_slider.on_changed(update)\n",
    "plt.show()"
   ]
  },
  {
   "cell_type": "code",
   "execution_count": null,
   "metadata": {},
   "outputs": [],
   "source": []
  }
 ],
 "metadata": {
  "kernelspec": {
   "display_name": "ml",
   "language": "python",
   "name": "python3"
  },
  "language_info": {
   "codemirror_mode": {
    "name": "ipython",
    "version": 3
   },
   "file_extension": ".py",
   "mimetype": "text/x-python",
   "name": "python",
   "nbconvert_exporter": "python",
   "pygments_lexer": "ipython3",
   "version": "3.11.5"
  }
 },
 "nbformat": 4,
 "nbformat_minor": 2
}
