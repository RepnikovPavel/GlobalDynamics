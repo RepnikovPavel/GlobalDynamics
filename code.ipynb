{
 "cells": [
  {
   "cell_type": "code",
   "execution_count": null,
   "metadata": {},
   "outputs": [],
   "source": [
    "from funcs import *\n",
    "from tqdm import tqdm\n",
    "import matplotlib\n",
    "import string\n",
    "import plotly.graph_objs as go\n",
    "from scipy import ndimage, datasets\n",
    "from mpl_toolkits.axes_grid1 import make_axes_locatable\n",
    "from matplotlib.widgets import Button, Slider\n",
    "%matplotlib widget"
   ]
  },
  {
   "cell_type": "code",
   "execution_count": null,
   "metadata": {},
   "outputs": [],
   "source": [
    "world_pop = gpd.read_file('./data/pop.geo.json')\n",
    "world_pop['POP2005']=world_pop['POP2005'].astype(float)\n",
    "world_pop['area']=  world_pop.to_crs(6933).area.astype(float)*0.000001\n",
    "world_pop['density'] = (world_pop['POP2005'].div(world_pop['area']))"
   ]
  },
  {
   "cell_type": "code",
   "execution_count": null,
   "metadata": {},
   "outputs": [],
   "source": [
    "country_name_index = {}\n",
    "index_country_name = {}\n",
    "for i in range(len(world_pop)):\n",
    "    row_i = world_pop.iloc[i]\n",
    "    country_name_index.update({row_i['NAME']:i})\n",
    "    index_country_name.update({i:row_i['NAME']})"
   ]
  },
  {
   "cell_type": "code",
   "execution_count": null,
   "metadata": {},
   "outputs": [],
   "source": [
    "polygons_ = get_polygons(world_pop['geometry'])\n",
    "source_polygons = get_source_polygons(world_pop['geometry'])\n",
    "N_vec_ = world_pop['POP2005'].values\n",
    "for i in range(len(N_vec_)):\n",
    "    if pd.isna(N_vec_[i]):\n",
    "        N_vec_[i]=1.0\n",
    "Names_ = world_pop['NAME'].values\n",
    "Areas_ = world_pop['area'].values"
   ]
  },
  {
   "cell_type": "code",
   "execution_count": null,
   "metadata": {},
   "outputs": [],
   "source": [
    "hx = 1.0\n",
    "hy = 1.0"
   ]
  },
  {
   "cell_type": "code",
   "execution_count": null,
   "metadata": {},
   "outputs": [],
   "source": [
    "bounds_ = bounds_by_polygons(polygons_)\n",
    "xgrid,ygrid = make_grids(hx,hy,bounds_)\n",
    "Nx = len(xgrid)\n",
    "Ny = len(ygrid)"
   ]
  },
  {
   "cell_type": "code",
   "execution_count": null,
   "metadata": {},
   "outputs": [],
   "source": [
    "bounds_"
   ]
  },
  {
   "cell_type": "code",
   "execution_count": null,
   "metadata": {},
   "outputs": [],
   "source": [
    "fig,ax = plt.subplots()\n",
    "fig.set_size_inches(16,9)\n",
    "for i in range(len(polygons_ )):\n",
    "    ax.plot(polygons_[i][0],polygons_[i][1],c='k')"
   ]
  },
  {
   "cell_type": "code",
   "execution_count": null,
   "metadata": {},
   "outputs": [],
   "source": [
    "masks_per_state = get_binary_mask_per_state_cv2(source_polygons,\n",
    "                                xgrid, ygrid)\n",
    "mask_of_earth = CUPmasks(masks_per_state)\n",
    "mask_of_water = np.logical_not(mask_of_earth)"
   ]
  },
  {
   "cell_type": "code",
   "execution_count": null,
   "metadata": {},
   "outputs": [],
   "source": [
    "masks_with_N = [masks_per_state[i].astype(np.float64)*N_vec_[i] for i in range(len(masks_per_state))]"
   ]
  },
  {
   "cell_type": "code",
   "execution_count": null,
   "metadata": {},
   "outputs": [],
   "source": [
    "mask_of_earth_N = None \n",
    "for i in range(len(masks_with_N)):\n",
    "    if mask_of_earth_N is None:\n",
    "        mask_of_earth_N = masks_with_N[i]\n",
    "    else:\n",
    "        mask_of_earth_N += masks_with_N[i]"
   ]
  },
  {
   "cell_type": "code",
   "execution_count": null,
   "metadata": {},
   "outputs": [],
   "source": [
    "cities = pd.read_csv('./data/worldcities.csv')"
   ]
  },
  {
   "cell_type": "code",
   "execution_count": null,
   "metadata": {},
   "outputs": [],
   "source": [
    "cities_mask = np.zeros(shape=(len(xgrid),len(ygrid)),dtype=np.float64)\n",
    "for i in range(len(cities)):\n",
    "    x = cities.iloc[i]['lng']\n",
    "    y = cities.iloc[i]['lat']\n",
    "    z = cities.iloc[i]['population']\n",
    "    xi = int((x-xgrid[0])/(xgrid[-1]-xgrid[0])*(len(xgrid)-1))\n",
    "    yi = int((y-ygrid[0])/(ygrid[-1]-ygrid[0])*(len(ygrid)-1))\n",
    "    if pd.isna(z):\n",
    "        z = 1.0\n",
    "    cities_mask[xi][yi] +=  z"
   ]
  },
  {
   "cell_type": "code",
   "execution_count": null,
   "metadata": {},
   "outputs": [],
   "source": [
    "poly_per_state = get_polygons_per_state(world_pop['geometry'])"
   ]
  },
  {
   "cell_type": "code",
   "execution_count": null,
   "metadata": {},
   "outputs": [],
   "source": [
    "borders_per_state = get_binary_mask_per_state(poly_per_state,xgrid,ygrid,hx,hy)\n",
    "all_borders_ = CUPmasks(borders_per_state)\n",
    "# all_borders_ = ndimage.median_filter(all_borders_, size=2)\n",
    "kmask = 1.0-np.logical_or(all_borders_.astype(bool), mask_of_water).astype(np.float64)"
   ]
  },
  {
   "cell_type": "code",
   "execution_count": null,
   "metadata": {},
   "outputs": [],
   "source": [
    "border_intersection = np.zeros(shape=(len(xgrid),len(ygrid)),dtype=np.float64)\n",
    "for i in range(len(borders_per_state)):\n",
    "    for j in range(len(borders_per_state)):\n",
    "        if i==j:\n",
    "            continue\n",
    "        ib = borders_per_state[i]\n",
    "        jb = borders_per_state[j]\n",
    "        intersection = ib*jb\n",
    "        border_intersection += intersection\n",
    "border_intersection[border_intersection>0.0] = 1.0\n",
    "kmaskopen = np.zeros(shape=(len(xgrid),len(ygrid)),dtype=np.float64)\n",
    "for i in range(Nx):\n",
    "    for j in range(Ny):\n",
    "        is_water = False\n",
    "        xi = i\n",
    "        yi = j \n",
    "        if(mask_of_water[xi][yi] or mask_of_water[np.minimum(xi+1,Nx-1)][yi] or mask_of_water[np.maximum(xi-1,0)][yi] or mask_of_water[xi][np.maximum(yi-1,0)] or mask_of_water[np.minimum(xi+1,Nx-1)][np.maximum(yi-1,0)] or mask_of_water[np.maximum(xi-1,0)][np.maximum(yi-1,0)] or mask_of_water[xi][np.minimum(yi+1,Ny-1)] or mask_of_water[np.minimum(xi+1,Nx-1)][np.minimum(yi+1,Ny-1)] or mask_of_water[np.maximum(xi-1,0)][np.minimum(yi+1,Ny-1)]):\n",
    "            is_water = True\n",
    "        if not is_water:\n",
    "            kmaskopen[i][j] = (1.0-border_intersection[i][j])*all_borders_[i][j]\n",
    "        elif all_borders_[i][j] == 1.0: \n",
    "            kmaskopen[i][j] = 1.0\n",
    "        else:\n",
    "            kmaskopen[i][j] = 0.0\n",
    "all_borders_open_ = np.copy(kmaskopen)\n",
    "kmaskopen = 1.0-np.logical_or(kmaskopen.astype(bool), mask_of_water).astype(np.float64)\n",
    "fig, ax = plt.subplots()\n",
    "fig.set_size_inches(16,9)\n",
    "cax = ax.matshow((kmaskopen).T,cmap=matplotlib.cm.jet)\n",
    "cbar = fig.colorbar(cax)\n",
    "ax.invert_yaxis()\n",
    "ax.set_title(r'$\\kappa$')\n",
    "fig.subplots_adjust(left=0.0, bottom=0.0)\n",
    "fig.tight_layout()"
   ]
  },
  {
   "cell_type": "code",
   "execution_count": null,
   "metadata": {},
   "outputs": [],
   "source": [
    "fig, ax = plt.subplots()\n",
    "fig.set_size_inches(16,9)\n",
    "cax = ax.matshow((all_borders_).T,cmap=matplotlib.cm.jet)\n",
    "cbar = fig.colorbar(cax)\n",
    "ax.invert_yaxis()\n",
    "ax.set_title(r'$\\kappa$')\n",
    "fig.subplots_adjust(left=0.0, bottom=0.0)\n",
    "fig.tight_layout()"
   ]
  },
  {
   "cell_type": "code",
   "execution_count": null,
   "metadata": {},
   "outputs": [],
   "source": [
    "u_nu = np.zeros(shape=(Nx,Ny))\n",
    "total_unaccounted = 0.0\n",
    "total_sum_ = 0.0\n",
    "internal_mask_per_state = []\n",
    "internal_index_cnames_ = {}\n",
    "internal_cnames_index_ = {}\n",
    "tmp_ind = 0\n",
    "for i in range(len(masks_per_state)):\n",
    "    state_mask = masks_per_state[i].astype(bool)\n",
    "    state_border_mask = borders_per_state[i].astype(bool)\n",
    "    internal_mask_ = np.logical_and(np.logical_not(state_border_mask), state_mask).astype(np.float64)\n",
    "    border_people_amt_ = np.sum(cities_mask*state_border_mask.astype(np.float64))\n",
    "    vertex_amt_internal_ = np.sum(internal_mask_)\n",
    "    if vertex_amt_internal_ ==0.0:\n",
    "        total_unaccounted += border_people_amt_\n",
    "        continue\n",
    "    total_sum_ += border_people_amt_\n",
    "    internal_people_ = internal_mask_*cities_mask + border_people_amt_/vertex_amt_internal_*internal_mask_\n",
    "    u_nu += internal_people_\n",
    "    internal_mask_per_state.append(internal_mask_)\n",
    "    internal_index_cnames_.update({tmp_ind:index_country_name[i]})\n",
    "    internal_cnames_index_.update({index_country_name[i]:tmp_ind})\n",
    "    tmp_ind +=1\n",
    "all_internal_masks_ = CUPmasks(internal_mask_per_state)\n",
    "where_not_zero = u_nu !=0.0\n",
    "vertex_amnt_where_not_zero = np.sum(where_not_zero)\n",
    "u_nu[where_not_zero] += total_unaccounted/vertex_amnt_where_not_zero\n",
    "u_nu[where_not_zero] = u_nu[where_not_zero]/np.sum(u_nu)*np.sum(N_vec_)\n"
   ]
  },
  {
   "cell_type": "code",
   "execution_count": null,
   "metadata": {},
   "outputs": [],
   "source": [
    "fig, ax = plt.subplots()\n",
    "fig.set_size_inches(16,9)\n",
    "cax = ax.matshow(u_nu.T,cmap=matplotlib.cm.jet,norm=matplotlib.colors.LogNorm())\n",
    "cbar = fig.colorbar(cax)\n",
    "ax.invert_yaxis()\n",
    "ax.set_title(r'${} \\ млрд$'.format(np.sum(u_nu)/10**9))\n",
    "fig.subplots_adjust(left=0.0, bottom=0.0)\n",
    "fig.tight_layout()"
   ]
  },
  {
   "cell_type": "code",
   "execution_count": null,
   "metadata": {},
   "outputs": [],
   "source": [
    "@jit(nopython=True)\n",
    "def F(uij, current_sum):\n",
    "    C0 = 279.0*10**9\n",
    "    return uij*current_sum/C0\n",
    "\n",
    "# @jit(nopython=True)\n",
    "# def F(t,i,j,intmask):\n",
    "#     C0 = 279.0*10**9\n",
    "#     T0 = 2048.37\n",
    "#     return C0/(T0-t)**2/60.0*intmask[i][j]\n",
    "\n",
    "# @jit(nopython=True)\n",
    "# def F(uij):\n",
    "#     C0 = 279.0*10**10\n",
    "#     return uij**2/C0\n",
    "\n",
    "# @jit(nopython=True)\n",
    "# def F(uij, current_sum):\n",
    "#     return 0.0\n",
    "\n",
    "# @jit(nopython =True)\n",
    "# def D(x,y,u,kmask,xindex,yindex,F_at_point):\n",
    "#     return kmask[xindex][yindex]*np.maximum(F_at_point,1.0)\n",
    "\n",
    "# @jit(nopython =True)\n",
    "# def D(x,y,u,kmask,xindex,yindex,F_at_point):\n",
    "#     return kmask[xindex][yindex]*F_at_point/10**5\n",
    "@jit(nopython =True)\n",
    "def D(x,y,u,kmask,xindex,yindex,F_at_point):\n",
    "    return kmask[xindex][yindex]*F_at_point/10**5\n",
    "\n",
    "    # return kmask[xindex][yindex]\n",
    "\n",
    "# @jit(nopython =True)\n",
    "# def D(x,y,u,kmask,xindex,yindex,F_at_point):\n",
    "#     return kmask[xindex][yindex]*F_at_point/10**5\n",
    "\n",
    "\n",
    "@jit(nopython=True)\n",
    "def solve(Nx,Ny,Nt,hx,hy,tau,t,x,y,u_,years_,water_mask_,earth_,kmask,intmask,borders_mask):\n",
    "    solutions = np.zeros(shape=(len(years_),Nx,Ny))\n",
    "    solutions[0] = np.copy(u_)\n",
    "    u = np.copy(u_)    \n",
    "    B = np.zeros(shape=(Nx,))\n",
    "    A = np.zeros(shape=(Nx, Nx))\n",
    "\n",
    "    By = np.zeros(shape=(Ny,))\n",
    "    Ay = np.zeros(shape=(Ny, Ny))\n",
    "    end_ = False\n",
    "    l_ = 1\n",
    "    u_next = np.zeros(shape=(Nx,Ny))\n",
    "    u_tau = np.zeros(shape=(Nx,Ny))\n",
    "    iters_ = 5\n",
    "    for k in range(Nt-1):\n",
    "        u_s = np.copy(u)       \n",
    "        current_sum = np.sum(u_s)\n",
    "        if np.isnan(current_sum) or np.isinf(current_sum):\n",
    "            print('last bad try')\n",
    "            print(f'nan {np.isnan(current_sum)}')\n",
    "            print(f'inf {np.isinf(current_sum)}')\n",
    "            print(f'num of nan {np.sum(np.isnan(u_s))}')\n",
    "            # FloatDistr(u_s.flatten())\n",
    "            print(k,Nt, t[k], current_sum/10**9) \n",
    "            return solutions[:l_]\n",
    "        print(k,Nt, t[k], current_sum/10**9) \n",
    "        \n",
    "        for j in range(1,Ny-1):\n",
    "            x_sums = []\n",
    "            for s in range(iters_):\n",
    "                u_s = None\n",
    "                if s == 0:\n",
    "                    u_s = np.copy(u) \n",
    "                else:\n",
    "                    u_s = np.copy(u_next)\n",
    "                sum_s = np.sum(u_s)\n",
    "                x_sums.append(sum_s)\n",
    "                A[0][0] = 1.0\n",
    "                A[Nx-1][Nx-1] = 1.0 \n",
    "                \n",
    "                for i in range(1,Nx-1):\n",
    "                    if borders_mask[i][j] == 1:\n",
    "                        if intmask[i+1][j] == 1:\n",
    "                            A[i][i-1] = 0.0\n",
    "                            A[i][i] = -1.0/hx\n",
    "                            A[i][i+1] = 1.0/hx\n",
    "                            continue\n",
    "                        elif intmask[i-1][j] == 1:\n",
    "                            A[i][i-1] = -1.0/hx\n",
    "                            A[i][i] = 1.0/hx\n",
    "                            A[i][i+1] = 0.0\n",
    "                            continue\n",
    "                    A[i][i-1] = 1.0/4.0/hx**2*(D(x[i+1],y[j],u_s[i+1][j],kmask,i+1,j,F(u_s[i+1][j],sum_s))-D(x[i-1],y[j],u_s[i-1][j],kmask,i-1,j,F(u_s[i-1][j],sum_s))) - 1.0/hx**2*D(x[i],y[j],u_s[i][j],kmask,i,j,F(u_s[i][j],sum_s))\n",
    "                    A[i][i]   = 2.0/tau+2.0/hx**2*D(x[i],y[j],u_s[i][j],kmask,i,j,F(u_s[i][j],sum_s))\n",
    "                    A[i][i+1] = -1.0/4.0/hx**2*(D(x[i+1],y[j],u_s[i+1][j],kmask,i+1,j,F(u_s[i+1][j],sum_s)) - D(x[i-1],y[j],u_s[i-1][j],kmask,i-1,j,F(u_s[i-1][j],sum_s))) - 1.0/hx**2*D(x[i],y[j],u_s[i][j],kmask,i,j,F(u_s[i][j],sum_s))\n",
    "                B[0] = 0.0\n",
    "                B[Nx-1] = 0.0\n",
    "                for i in range(1,Nx-1):\n",
    "                    if borders_mask[i][j] == 1:\n",
    "                        B[i] = 0.0\n",
    "                    else:\n",
    "                        B[i] = F(u_s[i][j],sum_s)+2.0/tau*u[i][j] + \\\n",
    "                            1.0/(4.0*hy**2)*(D(x[i],y[j+1],u[i][j+1],kmask,i,j+1,F(u[i][j+1],current_sum))-D(x[i],y[j-1],u[i][j-1],kmask,i,j-1,F(u[i][j-1],current_sum)))*(u[i][j+1]-u[i][j-1])+\\\n",
    "                            1.0/(hy**2)*D(x[i],y[j],u[i][j],kmask,i,j,F(u[i][j],current_sum))*(u[i][j+1]-2.0*u[i][j]+u[i][j-1])\n",
    "                u_next[:,j], code_of_error = progonka(A,B)\n",
    "                if code_of_error == 1:\n",
    "                    solutions[:l_]\n",
    "\n",
    "        u_tau_pola = np.copy(u_next)\n",
    "        sum2= np.sum(u_tau_pola)\n",
    "        for i in range(1,Nx-1):\n",
    "\n",
    "            for s in range(iters_):\n",
    "                u_s = None\n",
    "                if s == 0:\n",
    "                    u_s = np.copy(u_tau_pola) \n",
    "                else:\n",
    "                    u_s = np.copy(u_tau)\n",
    "                sum_s = np.sum(u_s)\n",
    "                Ay[0][0] = 1.0\n",
    "                Ay[Ny-1][Ny-1] = 1.0\n",
    "                for j in range(1,Ny-1):\n",
    "                    if borders_mask[i][j] == 1:\n",
    "                        if intmask[i][j+1] == 1:\n",
    "                            Ay[j][j-1] = 0.0\n",
    "                            Ay[j][j] = -1.0/hy\n",
    "                            Ay[j][j+1] = 1.0/hy\n",
    "                            continue\n",
    "                        elif intmask[i][j-1] == 1:\n",
    "                            Ay[j][j-1] = -1.0/hy\n",
    "                            Ay[j][j] = 1.0/hy\n",
    "                            Ay[j][j+1] = 0.0\n",
    "                            continue\n",
    "                    Ay[j][j-1] = 1.0/(4.0*hy**2)*D(x[i],y[j+1],u_s[i][j+1],kmask,i,j+1,F(u_s[i][j+1],sum_s)) - 1.0/(4.0*hy**2)*D(x[i],y[j-1],u_s[i][j-1],kmask,i,j-1,F(u_s[i][j-1],sum_s)) - 1.0/hy**2*D(x[i],y[j],u_s[i][j],kmask,i,j,F(u_s[i][j],sum_s))\n",
    "                    Ay[j][j]   = 2.0/tau+2.0/(hy**2)*D(x[i],y[j],u_s[i][j],kmask,i,j,F(u_s[i][j],sum_s))\n",
    "                    Ay[j][j+1] = -1.0/(4.0*hy**2)*D(x[i],y[j+1],u_s[i][j+1],kmask,i,j+1,F(u_s[i][j+1],sum_s)) + 1.0/(4.0*hy**2)*D(x[i],y[j-1],u_s[i][j-1],kmask,i,j-1,F(u_s[i][j-1],sum_s)) - 1.0/hy**2*D(x[i],y[j],u_s[i][j],kmask,i,j,F(u_s[i][j],sum_s))\n",
    "\n",
    "                By[0] = 0.0\n",
    "                By[Ny-1] = 0.0\n",
    "                for j in range(1,Ny-1):\n",
    "                    if borders_mask[i][j] == 1:\n",
    "                        By[j] = 0.0\n",
    "                    else:\n",
    "                        By[j] = F(u_s[i][j],sum_s)+2.0/tau*u_tau_pola[i][j] + \\\n",
    "                            1.0/(4.0*hx**2)*(D(x[i+1],y[j],u_tau_pola[i+1][j],kmask,i+1,j,F(u_tau_pola[i+1][j],sum2))-D(x[i-1],y[j],u_tau_pola[i-1][j],kmask,i-1,j,F(u_tau_pola[i-1][j],sum2)))*(u_tau_pola[i+1][j]-u_tau_pola[i-1][j])+\\\n",
    "                            1.0/(hx**2)*D(x[i],y[j],u_tau_pola[i][j],kmask,i,j,F(u_tau_pola[i][j],sum2))*(u_tau_pola[i+1][j]-2.0*u_tau_pola[i][j]+u_tau_pola[i-1][j])\n",
    "                u_tau[i,:],code_of_error= progonka(Ay,By)\n",
    "                if code_of_error == 1:\n",
    "                    solutions[:l_]\n",
    "\n",
    "        u = np.copy(u_tau)\n",
    "        for ye_ in years_:\n",
    "            if ye_ == t[k+1]:\n",
    "                solutions[l_] = np.copy(u_tau)\n",
    "                l_ +=1  \n",
    "    return solutions"
   ]
  },
  {
   "cell_type": "code",
   "execution_count": null,
   "metadata": {},
   "outputs": [],
   "source": [
    "print(Nx,Ny,Nx*Ny)"
   ]
  },
  {
   "cell_type": "code",
   "execution_count": null,
   "metadata": {},
   "outputs": [],
   "source": [
    "fig, ax = plt.subplots()\n",
    "fig.set_size_inches(16,9)\n",
    "cax = ax.matshow((kmask+2.0*all_borders_).T,cmap=matplotlib.cm.jet)\n",
    "cbar = fig.colorbar(cax)\n",
    "ax.invert_yaxis()\n",
    "ax.set_title(r'$borders$')\n",
    "fig.subplots_adjust(left=0.0, bottom=0.0)\n",
    "fig.tight_layout()"
   ]
  },
  {
   "cell_type": "code",
   "execution_count": null,
   "metadata": {},
   "outputs": [],
   "source": [
    "tau = 0.1\n",
    "T = 100.0\n",
    "t0 = 2005.0\n",
    "Nt = int((t0+T-t0)/tau) + 1\n",
    "years_ = np.arange(t0,T+t0)\n",
    "tgrid = np.linspace(start=t0, stop=t0+T,num=Nt)\n",
    "t = np.copy(tgrid)\n",
    "x = np.copy(xgrid)\n",
    "y = np.copy(ygrid)\n",
    "u_vec = solve(Nx,Ny,Nt,hx,hy,tau,t,x,y,u_nu,years_,mask_of_water.astype(np.float64),mask_of_earth.astype(np.float64),kmask,all_internal_masks_,all_borders_)"
   ]
  },
  {
   "cell_type": "code",
   "execution_count": null,
   "metadata": {},
   "outputs": [],
   "source": [
    "total_error_ = 0.0\n",
    "for i in range(len(u_vec)):\n",
    "    total_error_ += np.sum(u_vec[i]*mask_of_water)\n",
    "total_error_"
   ]
  },
  {
   "cell_type": "code",
   "execution_count": null,
   "metadata": {},
   "outputs": [],
   "source": [
    "for i in range(len(u_vec)):\n",
    "    u_ = u_vec[i]\n",
    "    if np.sum(u_<0.0):\n",
    "        print(years_[i])"
   ]
  },
  {
   "cell_type": "code",
   "execution_count": null,
   "metadata": {},
   "outputs": [],
   "source": [
    "fig,ax = plt.subplots()\n",
    "sums_ = [np.sum(el) for el in u_vec]\n",
    "sums__ = [(sums_[i]-sums_[0])/sums_[0]*100 for i in range(len(sums_))]\n",
    "ax.plot(years_[:len(u_vec)], sums__)\n",
    "# ax.set_yscale('symlog')\n",
    "ax.set_title('утечка без источника')"
   ]
  },
  {
   "cell_type": "code",
   "execution_count": null,
   "metadata": {},
   "outputs": [],
   "source": [
    "fig,ax = plt.subplots()\n",
    "sums_ = [np.sum(el) for el in u_vec]\n",
    "ax.plot(years_[:len(u_vec)], sums_)\n",
    "ax.set_yscale('log')\n",
    "ax.set_title(f'N(t), T0={years_[len(u_vec)-1]}')"
   ]
  },
  {
   "cell_type": "code",
   "execution_count": null,
   "metadata": {},
   "outputs": [],
   "source": [
    "t_ = years_[:len(u_vec)]\n",
    "fig,ax = plt.subplots()\n",
    "fig.set_size_inches(10,10)\n",
    "for i in range(len(internal_mask_per_state)):\n",
    "    mask_ = internal_mask_per_state[i]\n",
    "    name_ = internal_index_cnames_[i]\n",
    "    sums_ = []\n",
    "    for j in range(len(u_vec)):\n",
    "        u_ = u_vec[j]\n",
    "        sum_ = np.sum(u_*mask_)\n",
    "        sums_.append(sum_)\n",
    "    ax.plot(t_,sums_)\n",
    "    ax.text(t_[int(len(t_)/2)], sums_[int(len(sums_)/2)], name_, fontsize = 10) \n",
    "ax.set_yscale('log')"
   ]
  },
  {
   "cell_type": "code",
   "execution_count": null,
   "metadata": {},
   "outputs": [],
   "source": [
    "years_ = np.arange(t0,T+t0)\n",
    "years_ = years_[:len(u_vec)]\n",
    "fig, ax = plt.subplots()\n",
    "ax.set_xticklabels([])\n",
    "ax.set_yticklabels([])\n",
    "fig.set_size_inches(16,9)\n",
    "cax = ax.matshow(u_vec[0].T,cmap=matplotlib.cm.jet,norm=matplotlib.colors.LogNorm())\n",
    "# cax = ax.matshow(u_vec[0].T,cmap=matplotlib.cm.jet,norm=matplotlib.colors.SymLogNorm(linthresh=1000))\n",
    "ax.set_title(f'{int(years_[0])} {np.round(np.sum(u_vec[0])/10**9,1)} млрд')\n",
    "ax.invert_yaxis()\n",
    "fig.subplots_adjust(left=0.0, bottom=0.0)\n",
    "cbar = fig.colorbar(cax)\n",
    "fig.tight_layout()\n",
    "\n",
    "axfreq = fig.add_axes([0.1, 0.0, 0.5, 0.03])\n",
    "freq_slider = Slider(\n",
    "    ax=axfreq,\n",
    "    label='',\n",
    "    valmin=years_[0],\n",
    "    valmax=years_[-1],\n",
    "    valinit=years_[0]\n",
    ")\n",
    "\n",
    "def update(val):\n",
    "    # ax.matshow(u_vec[int(val- years_[0])].T,cmap=matplotlib.cm.jet,norm=matplotlib.colors.LogNorm())\n",
    "    cax.set_data(u_vec[int(val- years_[0])].T)\n",
    "    ax.set_title(f'{int(val)} {np.round(np.sum(u_vec[int(val- years_[0])])/10**9,1)} млрд')\n",
    "    fig.canvas.draw_idle()\n",
    "    # plt.draw()\n",
    "\n",
    "freq_slider.on_changed(update)\n",
    "plt.show()"
   ]
  },
  {
   "cell_type": "code",
   "execution_count": null,
   "metadata": {},
   "outputs": [],
   "source": [
    "fig, ax = plt.subplots()\n",
    "fig.set_size_inches(16,9)\n",
    "cax = ax.matshow((kmaskopen+2.0*all_borders_open_).T,cmap=matplotlib.cm.jet)\n",
    "cbar = fig.colorbar(cax)\n",
    "ax.invert_yaxis()\n",
    "ax.set_title(r'$\\kappa$')\n",
    "fig.subplots_adjust(left=0.0, bottom=0.0)\n",
    "fig.tight_layout()"
   ]
  },
  {
   "cell_type": "code",
   "execution_count": null,
   "metadata": {},
   "outputs": [],
   "source": [
    "fig, ax = plt.subplots()\n",
    "fig.set_size_inches(16,9)\n",
    "cax = ax.matshow((mask_of_water).T,cmap=matplotlib.cm.jet)\n",
    "cbar = fig.colorbar(cax)\n",
    "ax.invert_yaxis()\n",
    "ax.set_title(r'$\\kappa$')\n",
    "fig.subplots_adjust(left=0.0, bottom=0.0)\n",
    "fig.tight_layout()"
   ]
  },
  {
   "cell_type": "code",
   "execution_count": null,
   "metadata": {},
   "outputs": [],
   "source": [
    "tau = 0.1\n",
    "T = 100.0\n",
    "t0 = 2005.0\n",
    "Nt = int((t0+T-t0)/tau) + 1\n",
    "years_ = np.arange(t0,T+t0)\n",
    "tgrid = np.linspace(start=t0, stop=t0+T,num=Nt)\n",
    "t = np.copy(tgrid)\n",
    "x = np.copy(xgrid)\n",
    "y = np.copy(ygrid)\n",
    "u_vec2 = solve(Nx,Ny,Nt,hx,hy,tau,t,x,y,u_nu,years_,mask_of_water.astype(np.float64),mask_of_earth.astype(np.float64),kmaskopen,all_internal_masks_,all_borders_open_)"
   ]
  },
  {
   "cell_type": "code",
   "execution_count": null,
   "metadata": {},
   "outputs": [],
   "source": [
    "total_error_ = 0.0\n",
    "for i in range(len(u_vec2)):\n",
    "    total_error_ += np.sum(u_vec2[i]*mask_of_water)\n",
    "total_error_"
   ]
  },
  {
   "cell_type": "code",
   "execution_count": null,
   "metadata": {},
   "outputs": [],
   "source": [
    "fig,ax = plt.subplots()\n",
    "sums_ = [np.sum(el) for el in u_vec2]\n",
    "ax.plot(years_[:len(u_vec2)], sums_)\n",
    "ax.set_yscale('log')\n",
    "ax.set_title(f'N(t), T0={years_[len(u_vec2)-1]}')"
   ]
  },
  {
   "cell_type": "code",
   "execution_count": null,
   "metadata": {},
   "outputs": [],
   "source": [
    "t_ = years_[:len(u_vec2)]\n",
    "fig,ax = plt.subplots()\n",
    "fig.set_size_inches(10,10)\n",
    "for i in range(len(internal_mask_per_state)):\n",
    "    mask_ = internal_mask_per_state[i]\n",
    "    name_ = internal_index_cnames_[i]\n",
    "    sums_ = []\n",
    "    for j in range(len(u_vec2)):\n",
    "        u_ = u_vec2[j]\n",
    "        sum_ = np.sum(u_*mask_)\n",
    "        sums_.append(sum_)\n",
    "    ax.plot(t_,sums_)\n",
    "    ax.text(t_[int(len(t_)/2)], sums_[int(len(sums_)/2)], name_, fontsize = 10) \n",
    "ax.set_yscale('log')"
   ]
  },
  {
   "cell_type": "code",
   "execution_count": null,
   "metadata": {},
   "outputs": [],
   "source": [
    "years_ = np.arange(t0,T+t0)\n",
    "years_ = years_[:len(u_vec2)]\n",
    "fig2, ax2 = plt.subplots()\n",
    "ax2.set_xticklabels([])\n",
    "ax2.set_yticklabels([])\n",
    "fig2.set_size_inches(16,9)\n",
    "cax = ax2.matshow(u_vec2[0].T,cmap=matplotlib.cm.jet,norm=matplotlib.colors.LogNorm())\n",
    "# cax = ax2.matshow(u_vec2[0].T,cmap=matplotlib.cm.jet,norm=matplotlib.colors.SymLogNorm(linthresh=1))\n",
    "ax2.set_title(f'{int(years_[0])} {np.round(np.sum(u_vec2[0])/10**9,1)} млрд')\n",
    "ax2.invert_yaxis()\n",
    "fig2.subplots_adjust(left=0.0, bottom=0.0)\n",
    "cbar = fig.colorbar(cax)\n",
    "fig2.tight_layout()\n",
    "\n",
    "axfreq = fig2.add_axes([0.1, 0.0, 0.5, 0.03])\n",
    "freq_slider = Slider(\n",
    "    ax=axfreq,\n",
    "    label='',\n",
    "    valmin=years_[0],\n",
    "    valmax=years_[-1],\n",
    "    valinit=years_[0]\n",
    ")\n",
    "\n",
    "def update(val):\n",
    "    # ax.matshow(u_vec[int(val- years_[0])].T,cmap=matplotlib.cm.jet,norm=matplotlib.colors.LogNorm())\n",
    "    u_tmp = np.copy(u_vec2[int(val- years_[0])])\n",
    "    u_tmp[np.abs(u_tmp) < 10**4] = 0.0\n",
    "    cax.set_data(u_tmp.T)\n",
    "    ax2.set_title(f'{int(val)} {np.round(np.sum(u_tmp)/10**9,1)} млрд')\n",
    "    fig.canvas.draw_idle()\n",
    "    # plt.draw()\n",
    "\n",
    "freq_slider.on_changed(update)\n",
    "plt.show()"
   ]
  },
  {
   "cell_type": "code",
   "execution_count": null,
   "metadata": {},
   "outputs": [],
   "source": [
    "fig,ax = plt.subplots()\n",
    "years_ = np.arange(t0,T+t0)\n",
    "sums_1 = [np.sum(el) for el in u_vec]\n",
    "sums_2= [np.sum(el) for el in u_vec2]\n",
    "ax.plot(years_[:len(u_vec)], sums_1,label='closed borders')\n",
    "ax.plot(years_[:len(u_vec2)], sums_2,label='open borders')\n",
    "ax.set_yscale('log')\n",
    "# ax.set_title(f'N(t), T0={years_[len(u_vec2)-1]}')\n",
    "plt.legend()"
   ]
  },
  {
   "cell_type": "code",
   "execution_count": null,
   "metadata": {},
   "outputs": [],
   "source": []
  }
 ],
 "metadata": {
  "kernelspec": {
   "display_name": "ml",
   "language": "python",
   "name": "python3"
  },
  "language_info": {
   "codemirror_mode": {
    "name": "ipython",
    "version": 3
   },
   "file_extension": ".py",
   "mimetype": "text/x-python",
   "name": "python",
   "nbconvert_exporter": "python",
   "pygments_lexer": "ipython3",
   "version": "3.11.5"
  }
 },
 "nbformat": 4,
 "nbformat_minor": 2
}
