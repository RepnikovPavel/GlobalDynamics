{
 "cells": [
  {
   "cell_type": "code",
   "execution_count": null,
   "metadata": {},
   "outputs": [],
   "source": [
    "from funcs import *\n",
    "from tqdm import tqdm\n",
    "import matplotlib"
   ]
  },
  {
   "cell_type": "code",
   "execution_count": null,
   "metadata": {},
   "outputs": [],
   "source": [
    "world_pop = gpd.read_file('./data/pop.geo.json')\n",
    "world_pop['POP2005']=world_pop['POP2005'].astype(float)\n",
    "world_pop['area']=  world_pop.to_crs(6933).area.astype(float)*0.000001\n",
    "world_pop['density'] = (world_pop['POP2005'].div(world_pop['area']))"
   ]
  },
  {
   "cell_type": "code",
   "execution_count": null,
   "metadata": {},
   "outputs": [],
   "source": [
    "country_name_index = {}\n",
    "for i in range(len(world_pop)):\n",
    "    row_i = world_pop.iloc[i]\n",
    "    country_name_index.update({row_i['NAME']:i})"
   ]
  },
  {
   "cell_type": "code",
   "execution_count": null,
   "metadata": {},
   "outputs": [],
   "source": [
    "polygons_ = get_polygons(world_pop['geometry'])\n",
    "source_polygons = get_source_polygons(world_pop['geometry'])\n",
    "N_vec_ = world_pop['POP2005'].values\n",
    "Names_ = world_pop['NAME'].values\n",
    "Areas_ = world_pop['area'].values"
   ]
  },
  {
   "cell_type": "code",
   "execution_count": null,
   "metadata": {},
   "outputs": [],
   "source": [
    "hx = 0.1\n",
    "hy = 0.1"
   ]
  },
  {
   "cell_type": "code",
   "execution_count": null,
   "metadata": {},
   "outputs": [],
   "source": [
    "bounds_ = bounds_by_polygons(polygons_)\n",
    "xgrid,ygrid = make_grids(hx,hy,bounds_)"
   ]
  },
  {
   "cell_type": "code",
   "execution_count": null,
   "metadata": {},
   "outputs": [],
   "source": [
    "fig,ax = plt.subplots()\n",
    "fig.set_size_inches(16,9)\n",
    "for i in range(len(polygons_ )):\n",
    "    ax.plot(polygons_[i][0],polygons_[i][1],c='k')\n",
    "# for i in range(len(xgrid)):\n",
    "#     x_ = xgrid[i]\n",
    "#     ax.plot([x_,x_],[bounds_[1][0],bounds_[1][1]],c='k',linewidth=0.1)\n",
    "# for i in range(len(ygrid)):\n",
    "#     y_ = ygrid[i]\n",
    "#     ax.plot([bounds_[0][0],bounds_[0][1]],[y_,y_],c='k',linewidth=0.1)\n",
    "# plt.show()"
   ]
  },
  {
   "cell_type": "code",
   "execution_count": null,
   "metadata": {},
   "outputs": [],
   "source": [
    "masks_per_state = get_binary_mask_per_state_cv2(source_polygons,\n",
    "                                xgrid, ygrid)\n",
    "mask_of_earth = CUPmasks(masks_per_state)\n",
    "mask_of_water = np.logical_not(mask_of_earth)"
   ]
  },
  {
   "cell_type": "code",
   "execution_count": null,
   "metadata": {},
   "outputs": [],
   "source": [
    "masks_with_N = [masks_per_state[i].astype(np.float32)*N_vec_[i] for i in range(len(masks_per_state))]"
   ]
  },
  {
   "cell_type": "code",
   "execution_count": null,
   "metadata": {},
   "outputs": [],
   "source": [
    "mask_of_earth_N = None \n",
    "for i in range(len(masks_with_N)):\n",
    "    if mask_of_earth_N is None:\n",
    "        mask_of_earth_N = masks_with_N[i]\n",
    "    else:\n",
    "        mask_of_earth_N += masks_with_N[i]"
   ]
  },
  {
   "cell_type": "code",
   "execution_count": null,
   "metadata": {},
   "outputs": [],
   "source": [
    "cities = pd.read_csv('./data/worldcities.csv')\n",
    "cities"
   ]
  },
  {
   "cell_type": "code",
   "execution_count": null,
   "metadata": {},
   "outputs": [],
   "source": [
    "cities_mask = np.zeros(shape=(len(xgrid),len(ygrid)),dtype=np.float32)\n",
    "for i in range(len(cities)):\n",
    "    x = cities.iloc[i]['lng']\n",
    "    y = cities.iloc[i]['lat']\n",
    "    z = cities.iloc[i]['population']\n",
    "    xi = int((x-xgrid[0])/(xgrid[-1]-xgrid[0])*(len(xgrid)-1))\n",
    "    yi = int((y-ygrid[0])/(ygrid[-1]-ygrid[0])*(len(ygrid)-1))\n",
    "    if np.isnan(z):\n",
    "        z = 10**0\n",
    "    cities_mask[xi][yi] =  z"
   ]
  },
  {
   "cell_type": "code",
   "execution_count": null,
   "metadata": {},
   "outputs": [],
   "source": [
    "fig,ax = plt.subplots()\n",
    "fig.set_size_inches(16,9)\n",
    "cax = ax.matshow(cities_mask.T,cmap='viridis',norm=matplotlib.colors.LogNorm())\n",
    "ax.invert_yaxis()\n",
    "fig.colorbar(cax)\n",
    "ax.set_title('cities')"
   ]
  },
  {
   "cell_type": "code",
   "execution_count": null,
   "metadata": {},
   "outputs": [],
   "source": [
    "fig,ax = plt.subplots()\n",
    "fig.set_size_inches(16,9)\n",
    "cax = ax.matshow(np.asarray(mask_of_earth).T,cmap='binary')\n",
    "ax.invert_yaxis()\n",
    "fig.colorbar(cax)\n",
    "ax.set_title('land')"
   ]
  },
  {
   "cell_type": "code",
   "execution_count": null,
   "metadata": {},
   "outputs": [],
   "source": [
    "fig,ax = plt.subplots()\n",
    "fig.set_size_inches(16,9)\n",
    "cax = ax.matshow(np.asarray(mask_of_water).T,cmap='binary')\n",
    "ax.invert_yaxis()\n",
    "fig.colorbar(cax)\n",
    "ax.set_title('water')"
   ]
  },
  {
   "cell_type": "code",
   "execution_count": null,
   "metadata": {},
   "outputs": [],
   "source": [
    "fig,ax = plt.subplots()\n",
    "fig.set_size_inches(16,9)\n",
    "cax = ax.matshow(np.asarray(mask_of_earth_N).T,cmap='viridis',norm=matplotlib.colors.LogNorm())\n",
    "ax.invert_yaxis()\n",
    "fig.colorbar(cax)\n",
    "ax.set_title(r'$2005г.\\ \\sum N_i = {}, млрд$'.format(np.sum(N_vec_)/10**9))"
   ]
  },
  {
   "cell_type": "code",
   "execution_count": null,
   "metadata": {},
   "outputs": [],
   "source": [
    "fig,ax = plt.subplots()\n",
    "fig.set_size_inches(16,9)\n",
    "cax = ax.matshow(np.asarray(masks_per_state[country_name_index['Russia']]).T,cmap='binary')\n",
    "ax.invert_yaxis()\n",
    "fig.colorbar(cax)"
   ]
  },
  {
   "cell_type": "code",
   "execution_count": null,
   "metadata": {},
   "outputs": [],
   "source": [
    "fig,ax = plt.subplots()\n",
    "fig.set_size_inches(16,9)\n",
    "cax = ax.matshow(np.asarray(masks_per_state[country_name_index['United States']]).T,cmap='binary')\n",
    "ax.invert_yaxis()\n",
    "fig.colorbar(cax)"
   ]
  },
  {
   "cell_type": "code",
   "execution_count": null,
   "metadata": {},
   "outputs": [],
   "source": [
    "poly_per_state = get_polygons_per_state(world_pop['geometry'])"
   ]
  },
  {
   "cell_type": "code",
   "execution_count": null,
   "metadata": {},
   "outputs": [],
   "source": [
    "u = np.zeros(shape=(len(xgrid),len(ygrid)))"
   ]
  },
  {
   "cell_type": "code",
   "execution_count": null,
   "metadata": {},
   "outputs": [],
   "source": [
    "c_mask = np.copy(masks_per_state[country_name_index['Russia']])\n",
    "c_N = N_vec_[country_name_index['Russia']]\n",
    "c_grid_count = np.sum(c_mask)\n",
    "c_boundary_conditions = np.logical_not(c_mask).astype(np.float32)\n",
    "c_polygons = poly_per_state[country_name_index['Russia']]\n",
    "c_bounds = [bounds_by_polygons(el) for el in c_polygons]\n",
    "c_cities_vs = cities_mask*c_mask.astype(np.float32)\n",
    "c_cities_vs_sum = np.sum(c_cities_vs)\n",
    "c_cities_vs = (np.sign(c_N-c_cities_vs_sum)*(c_N-c_cities_vs_sum)/np.sum(c_cities_vs>0) + c_cities_vs)*(c_cities_vs>0).astype(np.float32)"
   ]
  },
  {
   "cell_type": "code",
   "execution_count": null,
   "metadata": {},
   "outputs": [],
   "source": [
    "fig,ax = plt.subplots()\n",
    "fig.set_size_inches(16,9)\n",
    "cax = ax.matshow(c_cities_vs.T,norm= matplotlib.colors.LogNorm())\n",
    "ax.invert_yaxis()\n",
    "fig.colorbar(cax)\n",
    "ax.set_title(r'$НУ, \\Sigma = {}$'.format(np.sum(c_cities_vs)))"
   ]
  },
  {
   "cell_type": "code",
   "execution_count": null,
   "metadata": {},
   "outputs": [],
   "source": [
    "fig,ax = plt.subplots()\n",
    "fig.set_size_inches(16,9)\n",
    "cax = ax.matshow(c_boundary_conditions.T,cmap='binary')\n",
    "ax.invert_yaxis()\n",
    "fig.colorbar(cax)\n",
    "ax.set_title('ГУ')"
   ]
  }
 ],
 "metadata": {
  "kernelspec": {
   "display_name": "ml",
   "language": "python",
   "name": "python3"
  },
  "language_info": {
   "codemirror_mode": {
    "name": "ipython",
    "version": 3
   },
   "file_extension": ".py",
   "mimetype": "text/x-python",
   "name": "python",
   "nbconvert_exporter": "python",
   "pygments_lexer": "ipython3",
   "version": "3.11.5"
  }
 },
 "nbformat": 4,
 "nbformat_minor": 2
}
