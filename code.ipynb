{
 "cells": [
  {
   "cell_type": "code",
   "execution_count": null,
   "metadata": {},
   "outputs": [],
   "source": [
    "from funcs import *\n",
    "from tqdm import tqdm\n",
    "import matplotlib"
   ]
  },
  {
   "cell_type": "code",
   "execution_count": null,
   "metadata": {},
   "outputs": [],
   "source": [
    "world_pop = gpd.read_file('./data/pop.geo.json')\n",
    "world_pop['POP2005']=world_pop['POP2005'].astype(float)\n",
    "world_pop['area']=  world_pop.to_crs(6933).area.astype(float)*0.000001\n",
    "world_pop['density'] = (world_pop['POP2005'].div(world_pop['area']))"
   ]
  },
  {
   "cell_type": "code",
   "execution_count": null,
   "metadata": {},
   "outputs": [],
   "source": [
    "polygons_ = get_polygons(world_pop['geometry'])\n",
    "source_polygons = get_source_polygons(world_pop['geometry'])\n",
    "N_vec_ = world_pop['POP2005'].values\n",
    "Names_ = world_pop['NAME'].values\n",
    "Areas_ = world_pop['area'].values"
   ]
  },
  {
   "cell_type": "code",
   "execution_count": null,
   "metadata": {},
   "outputs": [],
   "source": [
    "hx = 0.1\n",
    "hy = 0.1"
   ]
  },
  {
   "cell_type": "code",
   "execution_count": null,
   "metadata": {},
   "outputs": [],
   "source": [
    "bounds_ = bounds_by_polygons(polygons_)\n",
    "xgrid,ygrid = make_grids(hx,hy,bounds_)"
   ]
  },
  {
   "cell_type": "code",
   "execution_count": null,
   "metadata": {},
   "outputs": [],
   "source": [
    "fig,ax = plt.subplots()\n",
    "fig.set_size_inches(16,9)\n",
    "for i in range(len(polygons_ )):\n",
    "    ax.plot(polygons_[i][0],polygons_[i][1],c='k')\n",
    "# for i in range(len(xgrid)):\n",
    "#     x_ = xgrid[i]\n",
    "#     ax.plot([x_,x_],[bounds_[1][0],bounds_[1][1]],c='k',linewidth=0.1)\n",
    "# for i in range(len(ygrid)):\n",
    "#     y_ = ygrid[i]\n",
    "#     ax.plot([bounds_[0][0],bounds_[0][1]],[y_,y_],c='k',linewidth=0.1)\n",
    "# plt.show()"
   ]
  },
  {
   "cell_type": "code",
   "execution_count": null,
   "metadata": {},
   "outputs": [],
   "source": [
    "masks_per_state = get_binary_mask_per_state_cv2(source_polygons,\n",
    "                                xgrid, ygrid)\n",
    "mask_of_earth = CUPmasks(masks_per_state)\n",
    "mask_of_water = np.logical_not(mask_of_earth)"
   ]
  },
  {
   "cell_type": "code",
   "execution_count": null,
   "metadata": {},
   "outputs": [],
   "source": [
    "masks_with_N = [masks_per_state[i].astype(np.float32)*N_vec_[i] for i in range(len(masks_per_state))]"
   ]
  },
  {
   "cell_type": "code",
   "execution_count": null,
   "metadata": {},
   "outputs": [],
   "source": [
    "mask_of_earth_N = None \n",
    "for i in range(len(masks_with_N)):\n",
    "    if mask_of_earth_N is None:\n",
    "        mask_of_earth_N = masks_with_N[i]\n",
    "    else:\n",
    "        mask_of_earth_N += masks_with_N[i]"
   ]
  },
  {
   "cell_type": "code",
   "execution_count": null,
   "metadata": {},
   "outputs": [],
   "source": [
    "mask_of_earth_N.shape"
   ]
  },
  {
   "cell_type": "code",
   "execution_count": null,
   "metadata": {},
   "outputs": [],
   "source": [
    "fig,ax = plt.subplots()\n",
    "fig.set_size_inches(16,9)\n",
    "cax = ax.matshow(np.asarray(mask_of_earth).T,cmap='binary')\n",
    "ax.invert_yaxis()\n",
    "fig.colorbar(cax)\n",
    "ax.set_title('land')"
   ]
  },
  {
   "cell_type": "code",
   "execution_count": null,
   "metadata": {},
   "outputs": [],
   "source": [
    "fig,ax = plt.subplots()\n",
    "fig.set_size_inches(16,9)\n",
    "cax = ax.matshow(np.asarray(mask_of_water).T,cmap='binary')\n",
    "ax.invert_yaxis()\n",
    "fig.colorbar(cax)\n",
    "ax.set_title('water')"
   ]
  },
  {
   "cell_type": "code",
   "execution_count": null,
   "metadata": {},
   "outputs": [],
   "source": [
    "fig,ax = plt.subplots()\n",
    "fig.set_size_inches(16,9)\n",
    "cax = ax.matshow(np.asarray(mask_of_earth_N).T,cmap='viridis', norm=matplotlib.colors.LogNorm())\n",
    "ax.invert_yaxis()\n",
    "fig.colorbar(cax)\n",
    "ax.set_title('численнность населения 2005')"
   ]
  },
  {
   "cell_type": "code",
   "execution_count": null,
   "metadata": {},
   "outputs": [],
   "source": []
  }
 ],
 "metadata": {
  "kernelspec": {
   "display_name": "ml",
   "language": "python",
   "name": "python3"
  },
  "language_info": {
   "codemirror_mode": {
    "name": "ipython",
    "version": 3
   },
   "file_extension": ".py",
   "mimetype": "text/x-python",
   "name": "python",
   "nbconvert_exporter": "python",
   "pygments_lexer": "ipython3",
   "version": "3.11.5"
  }
 },
 "nbformat": 4,
 "nbformat_minor": 2
}
