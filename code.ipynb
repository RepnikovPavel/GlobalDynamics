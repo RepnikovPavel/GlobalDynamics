{
 "cells": [
  {
   "cell_type": "code",
   "execution_count": null,
   "metadata": {},
   "outputs": [],
   "source": [
    "from funcs import *\n",
    "from tqdm import tqdm\n",
    "import matplotlib\n",
    "import string\n",
    "import plotly.graph_objs as go\n",
    "from scipy import ndimage, datasets\n",
    "%matplotlib widget"
   ]
  },
  {
   "cell_type": "code",
   "execution_count": null,
   "metadata": {},
   "outputs": [],
   "source": [
    "world_pop = gpd.read_file('./data/pop.geo.json')\n",
    "world_pop['POP2005']=world_pop['POP2005'].astype(float)\n",
    "world_pop['area']=  world_pop.to_crs(6933).area.astype(float)*0.000001\n",
    "world_pop['density'] = (world_pop['POP2005'].div(world_pop['area']))"
   ]
  },
  {
   "cell_type": "code",
   "execution_count": null,
   "metadata": {},
   "outputs": [],
   "source": [
    "country_name_index = {}\n",
    "for i in range(len(world_pop)):\n",
    "    row_i = world_pop.iloc[i]\n",
    "    country_name_index.update({row_i['NAME']:i})"
   ]
  },
  {
   "cell_type": "code",
   "execution_count": null,
   "metadata": {},
   "outputs": [],
   "source": [
    "polygons_ = get_polygons(world_pop['geometry'])\n",
    "source_polygons = get_source_polygons(world_pop['geometry'])\n",
    "N_vec_ = world_pop['POP2005'].values\n",
    "for i in range(len(N_vec_)):\n",
    "    if pd.isna(N_vec_[i]):\n",
    "        N_vec_[i]=1.0\n",
    "Names_ = world_pop['NAME'].values\n",
    "Areas_ = world_pop['area'].values"
   ]
  },
  {
   "cell_type": "code",
   "execution_count": null,
   "metadata": {},
   "outputs": [],
   "source": [
    "hx = 0.5\n",
    "hy = 0.5"
   ]
  },
  {
   "cell_type": "code",
   "execution_count": null,
   "metadata": {},
   "outputs": [],
   "source": [
    "bounds_ = bounds_by_polygons(polygons_)\n",
    "xgrid,ygrid = make_grids(hx,hy,bounds_)\n",
    "Nx = len(xgrid)\n",
    "Ny = len(ygrid)"
   ]
  },
  {
   "cell_type": "code",
   "execution_count": null,
   "metadata": {},
   "outputs": [],
   "source": [
    "bounds_"
   ]
  },
  {
   "cell_type": "code",
   "execution_count": null,
   "metadata": {},
   "outputs": [],
   "source": [
    "fig,ax = plt.subplots()\n",
    "fig.set_size_inches(16,9)\n",
    "for i in range(len(polygons_ )):\n",
    "    ax.plot(polygons_[i][0],polygons_[i][1],c='k')"
   ]
  },
  {
   "cell_type": "code",
   "execution_count": null,
   "metadata": {},
   "outputs": [],
   "source": [
    "masks_per_state = get_binary_mask_per_state_cv2(source_polygons,\n",
    "                                xgrid, ygrid)\n",
    "mask_of_earth = CUPmasks(masks_per_state)\n",
    "mask_of_water = np.logical_not(mask_of_earth)"
   ]
  },
  {
   "cell_type": "code",
   "execution_count": null,
   "metadata": {},
   "outputs": [],
   "source": [
    "masks_with_N = [masks_per_state[i].astype(np.float64)*N_vec_[i] for i in range(len(masks_per_state))]"
   ]
  },
  {
   "cell_type": "code",
   "execution_count": null,
   "metadata": {},
   "outputs": [],
   "source": [
    "mask_of_earth_N = None \n",
    "for i in range(len(masks_with_N)):\n",
    "    if mask_of_earth_N is None:\n",
    "        mask_of_earth_N = masks_with_N[i]\n",
    "    else:\n",
    "        mask_of_earth_N += masks_with_N[i]"
   ]
  },
  {
   "cell_type": "code",
   "execution_count": null,
   "metadata": {},
   "outputs": [],
   "source": [
    "cities = pd.read_csv('./data/worldcities.csv')"
   ]
  },
  {
   "cell_type": "code",
   "execution_count": null,
   "metadata": {},
   "outputs": [],
   "source": [
    "cities_mask = np.zeros(shape=(len(xgrid),len(ygrid)),dtype=np.float64)\n",
    "for i in range(len(cities)):\n",
    "    x = cities.iloc[i]['lng']\n",
    "    y = cities.iloc[i]['lat']\n",
    "    z = cities.iloc[i]['population']\n",
    "    xi = int((x-xgrid[0])/(xgrid[-1]-xgrid[0])*(len(xgrid)-1))\n",
    "    yi = int((y-ygrid[0])/(ygrid[-1]-ygrid[0])*(len(ygrid)-1))\n",
    "    if pd.isna(z):\n",
    "        z = 1.0\n",
    "    cities_mask[xi][yi] +=  z"
   ]
  },
  {
   "cell_type": "code",
   "execution_count": null,
   "metadata": {},
   "outputs": [],
   "source": [
    "poly_per_state = get_polygons_per_state(world_pop['geometry'])"
   ]
  },
  {
   "cell_type": "code",
   "execution_count": null,
   "metadata": {},
   "outputs": [],
   "source": [
    "borders_per_state = get_binary_mask_per_state(poly_per_state,xgrid,ygrid,hx,hy)\n",
    "all_borders_ = CUPmasks(borders_per_state)\n",
    "# all_borders_ = ndimage.median_filter(all_borders_, size=2)\n",
    "kmask = 1.0-np.logical_or(all_borders_.astype(bool), mask_of_water).astype(np.float64)"
   ]
  },
  {
   "cell_type": "code",
   "execution_count": null,
   "metadata": {},
   "outputs": [],
   "source": [
    "fig, ax = plt.subplots()\n",
    "fig.set_size_inches(16,9)\n",
    "cax = ax.matshow((kmask + 2.0*all_borders_).T,cmap=matplotlib.cm.jet)\n",
    "cbar = fig.colorbar(cax)\n",
    "ax.invert_yaxis()\n",
    "ax.set_title(r'$\\kappa$')\n",
    "fig.subplots_adjust(left=0.0, bottom=0.0)\n",
    "fig.tight_layout()"
   ]
  },
  {
   "cell_type": "code",
   "execution_count": null,
   "metadata": {},
   "outputs": [],
   "source": [
    "u_nu = np.zeros(shape=(Nx,Ny))\n",
    "total_unaccounted = 0.0\n",
    "total_sum_ = 0.0\n",
    "\n",
    "for i in range(len(masks_per_state)):\n",
    "    state_mask = masks_per_state[i].astype(bool)\n",
    "    state_border_mask = borders_per_state[i].astype(bool)\n",
    "    internal_mask_ = np.logical_and(np.logical_not(state_border_mask), state_mask).astype(np.float64)\n",
    "    border_people_amt_ = np.sum(cities_mask*state_border_mask.astype(np.float64))\n",
    "    vertex_amt_internal_ = np.sum(internal_mask_)\n",
    "    if vertex_amt_internal_ ==0.0:\n",
    "        total_unaccounted += border_people_amt_\n",
    "        continue\n",
    "    total_sum_ += border_people_amt_\n",
    "    internal_people_ = internal_mask_*cities_mask + border_people_amt_/vertex_amt_internal_*internal_mask_\n",
    "    u_nu += internal_people_\n",
    "\n",
    "where_not_zero = u_nu !=0.0\n",
    "vertex_amnt_where_not_zero = np.sum(where_not_zero)\n",
    "u_nu[where_not_zero] += total_unaccounted/vertex_amnt_where_not_zero\n",
    "u_nu[where_not_zero] = u_nu[where_not_zero]/np.sum(u_nu)*np.sum(N_vec_)\n"
   ]
  },
  {
   "cell_type": "code",
   "execution_count": null,
   "metadata": {},
   "outputs": [],
   "source": [
    "fig, ax = plt.subplots()\n",
    "fig.set_size_inches(16,9)\n",
    "cax = ax.matshow(u_nu.T,cmap=matplotlib.cm.jet,norm=matplotlib.colors.LogNorm())\n",
    "cbar = fig.colorbar(cax)\n",
    "ax.invert_yaxis()\n",
    "ax.set_title(r'${} \\ млрд$'.format(np.sum(u_nu)/10**9))\n",
    "fig.subplots_adjust(left=0.0, bottom=0.0)\n",
    "fig.tight_layout()"
   ]
  },
  {
   "cell_type": "code",
   "execution_count": null,
   "metadata": {},
   "outputs": [],
   "source": [
    "fig, ax = plt.subplots()\n",
    "fig.set_size_inches(16,9)\n",
    "cax = ax.matshow(kmask.T,cmap=matplotlib.cm.jet)\n",
    "cbar = fig.colorbar(cax)\n",
    "ax.invert_yaxis()\n",
    "ax.set_title(r'$\\kappa$')\n",
    "fig.subplots_adjust(left=0.0, bottom=0.0)\n",
    "fig.tight_layout()"
   ]
  },
  {
   "cell_type": "code",
   "execution_count": null,
   "metadata": {},
   "outputs": [],
   "source": [
    "@jit(nopython=True)\n",
    "def F(t,x,y,u):\n",
    "    return 0.0\n",
    "@jit(nopython =True)\n",
    "def D(x,y,u,kmask,xindex,yindex):\n",
    "    return kmask[xindex][yindex]\n",
    "@jit(nopython=True)\n",
    "def solve(Nx,Ny,Nt,hx,hy,tau,t,x,y,u_,years_,water_mask_,earth_,kmask):\n",
    "    solutions = np.zeros(shape=(len(years_),Nx,Ny))\n",
    "    solutions[0] = np.copy(u_)\n",
    "    u = np.copy(u_)\n",
    "    end_ = False\n",
    "    l_ = 1\n",
    "    u_next = np.zeros(shape=(Nx,Ny))\n",
    "    for k in range(Nt-1):\n",
    "        # if np.mod(int(float(k+1)/float(Nt-2)*100),10) == 0:\n",
    "        print(k,Nt)\n",
    "        for i in range(1,Nx-1):\n",
    "            for j in range(1,Ny-1):\n",
    "                L_x = 1.0/hx**2*(u[i+1][j]-u[i][j])*np.sqrt(D(x[i+1],y[j],u[i+1][j],kmask,i+1,j)*D(x[i],y[j],u[i][j],kmask,i,j)) - 1.0/hx**2*(u[i][j]-u[i-1][j])*np.sqrt(D(x[i],y[j],u[i][j],kmask,i,j)*D(x[i-1],y[j],u[i-1][j],kmask,i-1,j))\n",
    "                L_y = 1.0/hy**2*(u[i][j+1]-u[i][j])*np.sqrt(D(x[i],y[j+1],u[i][j+1],kmask,i,j+1)*D(x[i],y[j],u[i][j],kmask,i,j)) - 1.0/hy**2*(u[i][j]-u[i][j-1])*np.sqrt(D(x[i],y[j],u[i][j],kmask,i,j)*D(x[i],y[j-1],u[i][j-1],kmask,i,j-1))\n",
    "                u_next[i][j] = u[i][j] + tau*(L_x+ L_y + F(t[k],x[i],y[j],u[i][j]))\n",
    "        # is_nan = np.sum(np.isnan(u_next)) > 0\n",
    "        # is_inf = np.sum(np.isinf(u_next)) > 0\n",
    "        # is_neg = np.sum(u_next < 0.0) > 0\n",
    "        # if is_nan or is_inf or is_neg: \n",
    "        #     end_ = True\n",
    "        #     if is_nan:\n",
    "        #         print('nan')\n",
    "        #     if is_inf:\n",
    "        #         print('inf')\n",
    "        #     if is_neg:\n",
    "        #         print('neg')\n",
    "        # if end_:\n",
    "        #     return solutions[:l_]\n",
    "        u = np.copy(u_next)\n",
    "        for ye_ in years_:\n",
    "            if ye_ == t[k+1]:\n",
    "                solutions[l_] = np.copy(u_next)\n",
    "                l_ +=1  \n",
    "    return solutions"
   ]
  },
  {
   "cell_type": "code",
   "execution_count": null,
   "metadata": {},
   "outputs": [],
   "source": [
    "tau = hx/10**3\n",
    "T = 20.0\n",
    "t0 = 2005.0\n",
    "Nt = int((t0+T-t0)/tau) + 1\n",
    "years_ = np.arange(t0,T+t0)\n",
    "tgrid = np.linspace(start=t0, stop=t0+T,num=Nt)\n",
    "t = np.copy(tgrid)\n",
    "x = np.copy(xgrid)\n",
    "y = np.copy(ygrid)\n",
    "u_vec = solve(Nx,Ny,Nt,hx,hy,tau,t,x,y,u_nu,years_,mask_of_water.astype(np.float64),mask_of_earth.astype(np.float64),kmask)"
   ]
  },
  {
   "cell_type": "code",
   "execution_count": null,
   "metadata": {},
   "outputs": [],
   "source": [
    "fig,ax = plt.subplots()\n",
    "ax.plot(years_[:len(u_vec)], [np.abs(np.sum(u_vec[0])-np.sum(el)) for el in u_vec])\n",
    "ax.set_yscale('log')\n",
    "ax.set_title('учетка без источников')"
   ]
  },
  {
   "cell_type": "code",
   "execution_count": null,
   "metadata": {},
   "outputs": [],
   "source": [
    "from matplotlib.widgets import Button, Slider\n",
    "\n",
    "fig, ax = plt.subplots()\n",
    "ax.set_xticklabels([])\n",
    "ax.set_yticklabels([])\n",
    "fig.set_size_inches(16,9)\n",
    "cax = ax.matshow(u_vec[0].T,cmap=matplotlib.cm.jet,norm=matplotlib.colors.LogNorm())\n",
    "ax.set_title(f'{int(years_[0])} {np.round(np.sum(u_vec[0])/10**9,1)} млрд')\n",
    "ax.invert_yaxis()\n",
    "fig.subplots_adjust(left=0.0, bottom=0.0)\n",
    "# cbar = fig.colorbar(cax)\n",
    "fig.tight_layout()\n",
    "\n",
    "axfreq = fig.add_axes([0.1, 0.0, 0.5, 0.03])\n",
    "freq_slider = Slider(\n",
    "    ax=axfreq,\n",
    "    label='',\n",
    "    valmin=years_[0],\n",
    "    valmax=years_[-1],\n",
    "    valinit=years_[0]\n",
    ")\n",
    "\n",
    "def update(val):\n",
    "    # ax.matshow(solutions_[0].T,cmap=matplotlib.cm.jet,norm=matplotlib.colors.LogNorm())\n",
    "    cax.set_data(u_vec[int(val- years_[0])].T)\n",
    "    ax.set_title(f'{int(val)} {np.round(np.sum(u_vec[int(val- years_[0])])/10**9,1)} млрд')\n",
    "    fig.canvas.draw_idle()\n",
    "    # plt.draw()\n",
    "\n",
    "freq_slider.on_changed(update)\n",
    "plt.show()"
   ]
  },
  {
   "cell_type": "code",
   "execution_count": null,
   "metadata": {},
   "outputs": [],
   "source": []
  },
  {
   "cell_type": "code",
   "execution_count": null,
   "metadata": {},
   "outputs": [],
   "source": []
  }
 ],
 "metadata": {
  "kernelspec": {
   "display_name": "ml",
   "language": "python",
   "name": "python3"
  },
  "language_info": {
   "codemirror_mode": {
    "name": "ipython",
    "version": 3
   },
   "file_extension": ".py",
   "mimetype": "text/x-python",
   "name": "python",
   "nbconvert_exporter": "python",
   "pygments_lexer": "ipython3",
   "version": "3.11.5"
  }
 },
 "nbformat": 4,
 "nbformat_minor": 2
}
